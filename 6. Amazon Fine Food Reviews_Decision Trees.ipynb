{
 "cells": [
  {
   "cell_type": "markdown",
   "metadata": {
    "colab_type": "text",
    "id": "IXmtUCbYiWM3"
   },
   "source": [
    "# Amazon Fine Food Reviews Analysis\n",
    "\n",
    "\n",
    "Data Source: https://www.kaggle.com/snap/amazon-fine-food-reviews <br>\n",
    "\n",
    "EDA: https://nycdatascience.com/blog/student-works/amazon-fine-foods-visualization/\n",
    "\n",
    "\n",
    "The Amazon Fine Food Reviews dataset consists of reviews of fine foods from Amazon.<br>\n",
    "\n",
    "Number of reviews: 568,454<br>\n",
    "Number of users: 256,059<br>\n",
    "Number of products: 74,258<br>\n",
    "Timespan: Oct 1999 - Oct 2012<br>\n",
    "Number of Attributes/Columns in data: 10 \n",
    "\n",
    "Attribute Information:\n",
    "\n",
    "1. Id\n",
    "2. ProductId - unique identifier for the product\n",
    "3. UserId - unqiue identifier for the user\n",
    "4. ProfileName\n",
    "5. HelpfulnessNumerator - number of users who found the review helpful\n",
    "6. HelpfulnessDenominator - number of users who indicated whether they found the review helpful or not\n",
    "7. Score - rating between 1 and 5\n",
    "8. Time - timestamp for the review\n",
    "9. Summary - brief summary of the review\n",
    "10. Text - text of the review\n",
    "\n",
    "\n",
    "#### Objective:\n",
    "Given a review, determine whether the review is positive (rating of 4 or 5) or negative (rating of 1 or 2).\n",
    "\n",
    "<br>\n",
    "[Q] How to determine if a review is positive or negative?<br>\n",
    "<br> \n",
    "[Ans] We could use Score/Rating. A rating of 4 or 5 can be cosnidered as a positive review. A rating of 1 or 2 can be considered as negative one. A review of rating 3 is considered nuetral and such reviews are ignored from our analysis. This is an approximate and proxy way of determining the polarity (positivity/negativity) of a review.\n",
    "\n",
    "\n"
   ]
  },
  {
   "cell_type": "markdown",
   "metadata": {
    "colab_type": "text",
    "id": "syeYHDR_iWM7"
   },
   "source": [
    "# [1]. Reading Data"
   ]
  },
  {
   "cell_type": "markdown",
   "metadata": {
    "colab_type": "text",
    "id": "D_eZrQC0iWM9"
   },
   "source": [
    "## [1.1] Loading the data\n",
    "\n",
    "The dataset is available in two forms\n",
    "1. .csv file\n",
    "2. SQLite Database\n",
    "\n",
    "In order to load the data, We have used the SQLITE dataset as it is easier to query the data and visualise the data efficiently.\n",
    "<br> \n",
    "\n",
    "Here as we only want to get the global sentiment of the recommendations (positive or negative), we will purposefully ignore all Scores equal to 3. If the score is above 3, then the recommendation wil be set to \"positive\". Otherwise, it will be set to \"negative\"."
   ]
  },
  {
   "cell_type": "code",
   "execution_count": 6,
   "metadata": {
    "colab": {},
    "colab_type": "code",
    "id": "53fLFqf8iWNA"
   },
   "outputs": [],
   "source": [
    "%matplotlib inline\n",
    "import warnings\n",
    "warnings.filterwarnings(\"ignore\")\n",
    "\n",
    "\n",
    "import sqlite3\n",
    "import pandas as pd\n",
    "import numpy as np\n",
    "import nltk\n",
    "import string\n",
    "import matplotlib.pyplot as plt\n",
    "import seaborn as sns\n",
    "from sklearn.feature_extraction.text import TfidfTransformer\n",
    "from sklearn.feature_extraction.text import TfidfVectorizer\n",
    "\n",
    "from sklearn.feature_extraction.text import CountVectorizer\n",
    "from sklearn.metrics import confusion_matrix\n",
    "from sklearn import metrics\n",
    "from sklearn.metrics import roc_curve, auc\n",
    "from nltk.stem.porter import PorterStemmer\n",
    "\n",
    "import re\n",
    "# Tutorial about Python regular expressions: https://pymotw.com/2/re/\n",
    "import string\n",
    "from nltk.corpus import stopwords\n",
    "from nltk.stem import PorterStemmer\n",
    "from nltk.stem.wordnet import WordNetLemmatizer\n",
    "\n",
    "from gensim.models import Word2Vec\n",
    "from gensim.models import KeyedVectors\n",
    "import pickle\n",
    "\n",
    "from tqdm import tqdm\n",
    "import os"
   ]
  },
  {
   "cell_type": "code",
   "execution_count": 8,
   "metadata": {
    "colab": {},
    "colab_type": "code",
    "id": "j3kshrC-iWNI",
    "outputId": "07826916-2c3f-4a0a-e928-ddbc6d567a11"
   },
   "outputs": [
    {
     "name": "stdout",
     "output_type": "stream",
     "text": [
      "Number of data points in our data (100000, 10)\n"
     ]
    },
    {
     "data": {
      "text/html": [
       "<div>\n",
       "<style scoped>\n",
       "    .dataframe tbody tr th:only-of-type {\n",
       "        vertical-align: middle;\n",
       "    }\n",
       "\n",
       "    .dataframe tbody tr th {\n",
       "        vertical-align: top;\n",
       "    }\n",
       "\n",
       "    .dataframe thead th {\n",
       "        text-align: right;\n",
       "    }\n",
       "</style>\n",
       "<table border=\"1\" class=\"dataframe\">\n",
       "  <thead>\n",
       "    <tr style=\"text-align: right;\">\n",
       "      <th></th>\n",
       "      <th>Id</th>\n",
       "      <th>ProductId</th>\n",
       "      <th>UserId</th>\n",
       "      <th>ProfileName</th>\n",
       "      <th>HelpfulnessNumerator</th>\n",
       "      <th>HelpfulnessDenominator</th>\n",
       "      <th>Score</th>\n",
       "      <th>Time</th>\n",
       "      <th>Summary</th>\n",
       "      <th>Text</th>\n",
       "    </tr>\n",
       "  </thead>\n",
       "  <tbody>\n",
       "    <tr>\n",
       "      <td>0</td>\n",
       "      <td>1</td>\n",
       "      <td>B001E4KFG0</td>\n",
       "      <td>A3SGXH7AUHU8GW</td>\n",
       "      <td>delmartian</td>\n",
       "      <td>1</td>\n",
       "      <td>1</td>\n",
       "      <td>1</td>\n",
       "      <td>1303862400</td>\n",
       "      <td>Good Quality Dog Food</td>\n",
       "      <td>I have bought several of the Vitality canned d...</td>\n",
       "    </tr>\n",
       "    <tr>\n",
       "      <td>1</td>\n",
       "      <td>2</td>\n",
       "      <td>B00813GRG4</td>\n",
       "      <td>A1D87F6ZCVE5NK</td>\n",
       "      <td>dll pa</td>\n",
       "      <td>0</td>\n",
       "      <td>0</td>\n",
       "      <td>0</td>\n",
       "      <td>1346976000</td>\n",
       "      <td>Not as Advertised</td>\n",
       "      <td>Product arrived labeled as Jumbo Salted Peanut...</td>\n",
       "    </tr>\n",
       "    <tr>\n",
       "      <td>2</td>\n",
       "      <td>3</td>\n",
       "      <td>B000LQOCH0</td>\n",
       "      <td>ABXLMWJIXXAIN</td>\n",
       "      <td>Natalia Corres \"Natalia Corres\"</td>\n",
       "      <td>1</td>\n",
       "      <td>1</td>\n",
       "      <td>1</td>\n",
       "      <td>1219017600</td>\n",
       "      <td>\"Delight\" says it all</td>\n",
       "      <td>This is a confection that has been around a fe...</td>\n",
       "    </tr>\n",
       "  </tbody>\n",
       "</table>\n",
       "</div>"
      ],
      "text/plain": [
       "   Id   ProductId          UserId                      ProfileName  \\\n",
       "0   1  B001E4KFG0  A3SGXH7AUHU8GW                       delmartian   \n",
       "1   2  B00813GRG4  A1D87F6ZCVE5NK                           dll pa   \n",
       "2   3  B000LQOCH0   ABXLMWJIXXAIN  Natalia Corres \"Natalia Corres\"   \n",
       "\n",
       "   HelpfulnessNumerator  HelpfulnessDenominator  Score        Time  \\\n",
       "0                     1                       1      1  1303862400   \n",
       "1                     0                       0      0  1346976000   \n",
       "2                     1                       1      1  1219017600   \n",
       "\n",
       "                 Summary                                               Text  \n",
       "0  Good Quality Dog Food  I have bought several of the Vitality canned d...  \n",
       "1      Not as Advertised  Product arrived labeled as Jumbo Salted Peanut...  \n",
       "2  \"Delight\" says it all  This is a confection that has been around a fe...  "
      ]
     },
     "execution_count": 8,
     "metadata": {},
     "output_type": "execute_result"
    }
   ],
   "source": [
    "# using SQLite Table to read data.\n",
    "con = sqlite3.connect('database.sqlite') \n",
    "\n",
    "# filtering only positive and negative reviews i.e. \n",
    "# not taking into consideration those reviews with Score=3\n",
    "\n",
    "filtered_data = pd.read_sql_query(\"\"\" SELECT * FROM Reviews WHERE Score != 3 LIMIT 100000\"\"\", con) \n",
    "\n",
    "# Give reviews with Score>3 a positive rating(1), and reviews with a score<3 a negative rating(0).\n",
    "def partition(x):\n",
    "    if x < 3:\n",
    "        return 0\n",
    "    return 1\n",
    "\n",
    "#changing reviews with score less than 3 to be positive and vice-versa\n",
    "actualScore = filtered_data['Score']\n",
    "positiveNegative = actualScore.map(partition) \n",
    "filtered_data['Score'] = positiveNegative\n",
    "print(\"Number of data points in our data\", filtered_data.shape)\n",
    "filtered_data.head(3)"
   ]
  },
  {
   "cell_type": "code",
   "execution_count": 9,
   "metadata": {
    "colab": {},
    "colab_type": "code",
    "id": "-7Iy8yWfiWNR"
   },
   "outputs": [],
   "source": [
    "display = pd.read_sql_query(\"\"\"\n",
    "SELECT UserId, ProductId, ProfileName, Time, Score, Text, COUNT(*)\n",
    "FROM Reviews\n",
    "GROUP BY UserId\n",
    "HAVING COUNT(*)>1\n",
    "\"\"\", con)"
   ]
  },
  {
   "cell_type": "code",
   "execution_count": 10,
   "metadata": {
    "colab": {},
    "colab_type": "code",
    "id": "wuK6OYpOiWNV",
    "outputId": "5cb5082e-47b9-4d4b-cf90-fc6ffe0dceeb",
    "scrolled": true
   },
   "outputs": [
    {
     "name": "stdout",
     "output_type": "stream",
     "text": [
      "(80668, 7)\n"
     ]
    },
    {
     "data": {
      "text/html": [
       "<div>\n",
       "<style scoped>\n",
       "    .dataframe tbody tr th:only-of-type {\n",
       "        vertical-align: middle;\n",
       "    }\n",
       "\n",
       "    .dataframe tbody tr th {\n",
       "        vertical-align: top;\n",
       "    }\n",
       "\n",
       "    .dataframe thead th {\n",
       "        text-align: right;\n",
       "    }\n",
       "</style>\n",
       "<table border=\"1\" class=\"dataframe\">\n",
       "  <thead>\n",
       "    <tr style=\"text-align: right;\">\n",
       "      <th></th>\n",
       "      <th>UserId</th>\n",
       "      <th>ProductId</th>\n",
       "      <th>ProfileName</th>\n",
       "      <th>Time</th>\n",
       "      <th>Score</th>\n",
       "      <th>Text</th>\n",
       "      <th>COUNT(*)</th>\n",
       "    </tr>\n",
       "  </thead>\n",
       "  <tbody>\n",
       "    <tr>\n",
       "      <td>0</td>\n",
       "      <td>#oc-R115TNMSPFT9I7</td>\n",
       "      <td>B005ZBZLT4</td>\n",
       "      <td>Breyton</td>\n",
       "      <td>1331510400</td>\n",
       "      <td>2</td>\n",
       "      <td>Overall its just OK when considering the price...</td>\n",
       "      <td>2</td>\n",
       "    </tr>\n",
       "    <tr>\n",
       "      <td>1</td>\n",
       "      <td>#oc-R11D9D7SHXIJB9</td>\n",
       "      <td>B005HG9ESG</td>\n",
       "      <td>Louis E. Emory \"hoppy\"</td>\n",
       "      <td>1342396800</td>\n",
       "      <td>5</td>\n",
       "      <td>My wife has recurring extreme muscle spasms, u...</td>\n",
       "      <td>3</td>\n",
       "    </tr>\n",
       "    <tr>\n",
       "      <td>2</td>\n",
       "      <td>#oc-R11DNU2NBKQ23Z</td>\n",
       "      <td>B005ZBZLT4</td>\n",
       "      <td>Kim Cieszykowski</td>\n",
       "      <td>1348531200</td>\n",
       "      <td>1</td>\n",
       "      <td>This coffee is horrible and unfortunately not ...</td>\n",
       "      <td>2</td>\n",
       "    </tr>\n",
       "    <tr>\n",
       "      <td>3</td>\n",
       "      <td>#oc-R11O5J5ZVQE25C</td>\n",
       "      <td>B005HG9ESG</td>\n",
       "      <td>Penguin Chick</td>\n",
       "      <td>1346889600</td>\n",
       "      <td>5</td>\n",
       "      <td>This will be the bottle that you grab from the...</td>\n",
       "      <td>3</td>\n",
       "    </tr>\n",
       "    <tr>\n",
       "      <td>4</td>\n",
       "      <td>#oc-R12KPBODL2B5ZD</td>\n",
       "      <td>B007OSBEV0</td>\n",
       "      <td>Christopher P. Presta</td>\n",
       "      <td>1348617600</td>\n",
       "      <td>1</td>\n",
       "      <td>I didnt like this coffee. Instead of telling y...</td>\n",
       "      <td>2</td>\n",
       "    </tr>\n",
       "  </tbody>\n",
       "</table>\n",
       "</div>"
      ],
      "text/plain": [
       "               UserId   ProductId             ProfileName        Time  Score  \\\n",
       "0  #oc-R115TNMSPFT9I7  B005ZBZLT4                 Breyton  1331510400      2   \n",
       "1  #oc-R11D9D7SHXIJB9  B005HG9ESG  Louis E. Emory \"hoppy\"  1342396800      5   \n",
       "2  #oc-R11DNU2NBKQ23Z  B005ZBZLT4        Kim Cieszykowski  1348531200      1   \n",
       "3  #oc-R11O5J5ZVQE25C  B005HG9ESG           Penguin Chick  1346889600      5   \n",
       "4  #oc-R12KPBODL2B5ZD  B007OSBEV0   Christopher P. Presta  1348617600      1   \n",
       "\n",
       "                                                Text  COUNT(*)  \n",
       "0  Overall its just OK when considering the price...         2  \n",
       "1  My wife has recurring extreme muscle spasms, u...         3  \n",
       "2  This coffee is horrible and unfortunately not ...         2  \n",
       "3  This will be the bottle that you grab from the...         3  \n",
       "4  I didnt like this coffee. Instead of telling y...         2  "
      ]
     },
     "execution_count": 10,
     "metadata": {},
     "output_type": "execute_result"
    }
   ],
   "source": [
    "print(display.shape)\n",
    "display.head()"
   ]
  },
  {
   "cell_type": "code",
   "execution_count": 11,
   "metadata": {
    "colab": {},
    "colab_type": "code",
    "id": "OMKVKkH7iWNZ",
    "outputId": "acc9d31a-27a1-48a1-d2f2-ce1f2e511793"
   },
   "outputs": [
    {
     "data": {
      "text/html": [
       "<div>\n",
       "<style scoped>\n",
       "    .dataframe tbody tr th:only-of-type {\n",
       "        vertical-align: middle;\n",
       "    }\n",
       "\n",
       "    .dataframe tbody tr th {\n",
       "        vertical-align: top;\n",
       "    }\n",
       "\n",
       "    .dataframe thead th {\n",
       "        text-align: right;\n",
       "    }\n",
       "</style>\n",
       "<table border=\"1\" class=\"dataframe\">\n",
       "  <thead>\n",
       "    <tr style=\"text-align: right;\">\n",
       "      <th></th>\n",
       "      <th>UserId</th>\n",
       "      <th>ProductId</th>\n",
       "      <th>ProfileName</th>\n",
       "      <th>Time</th>\n",
       "      <th>Score</th>\n",
       "      <th>Text</th>\n",
       "      <th>COUNT(*)</th>\n",
       "    </tr>\n",
       "  </thead>\n",
       "  <tbody>\n",
       "    <tr>\n",
       "      <td>80638</td>\n",
       "      <td>AZY10LLTJ71NX</td>\n",
       "      <td>B001ATMQK2</td>\n",
       "      <td>undertheshrine \"undertheshrine\"</td>\n",
       "      <td>1296691200</td>\n",
       "      <td>5</td>\n",
       "      <td>I bought this 6 pack because for the price tha...</td>\n",
       "      <td>5</td>\n",
       "    </tr>\n",
       "  </tbody>\n",
       "</table>\n",
       "</div>"
      ],
      "text/plain": [
       "              UserId   ProductId                      ProfileName        Time  \\\n",
       "80638  AZY10LLTJ71NX  B001ATMQK2  undertheshrine \"undertheshrine\"  1296691200   \n",
       "\n",
       "       Score                                               Text  COUNT(*)  \n",
       "80638      5  I bought this 6 pack because for the price tha...         5  "
      ]
     },
     "execution_count": 11,
     "metadata": {},
     "output_type": "execute_result"
    }
   ],
   "source": [
    "display[display['UserId']=='AZY10LLTJ71NX']"
   ]
  },
  {
   "cell_type": "code",
   "execution_count": 12,
   "metadata": {
    "colab": {},
    "colab_type": "code",
    "id": "s37uqS_jiWNe",
    "outputId": "489f08d4-48a2-4e82-bfc1-4f982f35b2e4"
   },
   "outputs": [
    {
     "data": {
      "text/plain": [
       "393063"
      ]
     },
     "execution_count": 12,
     "metadata": {},
     "output_type": "execute_result"
    }
   ],
   "source": [
    "display['COUNT(*)'].sum()"
   ]
  },
  {
   "cell_type": "markdown",
   "metadata": {
    "colab_type": "text",
    "id": "efnNNqNfiWNh"
   },
   "source": [
    "#  [2] Exploratory Data Analysis"
   ]
  },
  {
   "cell_type": "markdown",
   "metadata": {
    "colab_type": "text",
    "id": "Eq0hnbxhiWNi"
   },
   "source": [
    "## [2.1] Data Cleaning: Deduplication\n",
    "\n",
    "It is observed (as shown in the table below) that the reviews data had many duplicate entries. Hence it was necessary to remove duplicates in order to get unbiased results for the analysis of the data.  Following is an example:"
   ]
  },
  {
   "cell_type": "code",
   "execution_count": 13,
   "metadata": {
    "colab": {},
    "colab_type": "code",
    "id": "3CKLJ2FFiWNj",
    "outputId": "c995e0c8-7ef1-48a0-d7a9-b0cc50efaa83",
    "scrolled": false
   },
   "outputs": [
    {
     "data": {
      "text/html": [
       "<div>\n",
       "<style scoped>\n",
       "    .dataframe tbody tr th:only-of-type {\n",
       "        vertical-align: middle;\n",
       "    }\n",
       "\n",
       "    .dataframe tbody tr th {\n",
       "        vertical-align: top;\n",
       "    }\n",
       "\n",
       "    .dataframe thead th {\n",
       "        text-align: right;\n",
       "    }\n",
       "</style>\n",
       "<table border=\"1\" class=\"dataframe\">\n",
       "  <thead>\n",
       "    <tr style=\"text-align: right;\">\n",
       "      <th></th>\n",
       "      <th>Id</th>\n",
       "      <th>ProductId</th>\n",
       "      <th>UserId</th>\n",
       "      <th>ProfileName</th>\n",
       "      <th>HelpfulnessNumerator</th>\n",
       "      <th>HelpfulnessDenominator</th>\n",
       "      <th>Score</th>\n",
       "      <th>Time</th>\n",
       "      <th>Summary</th>\n",
       "      <th>Text</th>\n",
       "    </tr>\n",
       "  </thead>\n",
       "  <tbody>\n",
       "    <tr>\n",
       "      <td>0</td>\n",
       "      <td>78445</td>\n",
       "      <td>B000HDL1RQ</td>\n",
       "      <td>AR5J8UI46CURR</td>\n",
       "      <td>Geetha Krishnan</td>\n",
       "      <td>2</td>\n",
       "      <td>2</td>\n",
       "      <td>5</td>\n",
       "      <td>1199577600</td>\n",
       "      <td>LOACKER QUADRATINI VANILLA WAFERS</td>\n",
       "      <td>DELICIOUS WAFERS. I FIND THAT EUROPEAN WAFERS ...</td>\n",
       "    </tr>\n",
       "    <tr>\n",
       "      <td>1</td>\n",
       "      <td>138317</td>\n",
       "      <td>B000HDOPYC</td>\n",
       "      <td>AR5J8UI46CURR</td>\n",
       "      <td>Geetha Krishnan</td>\n",
       "      <td>2</td>\n",
       "      <td>2</td>\n",
       "      <td>5</td>\n",
       "      <td>1199577600</td>\n",
       "      <td>LOACKER QUADRATINI VANILLA WAFERS</td>\n",
       "      <td>DELICIOUS WAFERS. I FIND THAT EUROPEAN WAFERS ...</td>\n",
       "    </tr>\n",
       "    <tr>\n",
       "      <td>2</td>\n",
       "      <td>138277</td>\n",
       "      <td>B000HDOPYM</td>\n",
       "      <td>AR5J8UI46CURR</td>\n",
       "      <td>Geetha Krishnan</td>\n",
       "      <td>2</td>\n",
       "      <td>2</td>\n",
       "      <td>5</td>\n",
       "      <td>1199577600</td>\n",
       "      <td>LOACKER QUADRATINI VANILLA WAFERS</td>\n",
       "      <td>DELICIOUS WAFERS. I FIND THAT EUROPEAN WAFERS ...</td>\n",
       "    </tr>\n",
       "    <tr>\n",
       "      <td>3</td>\n",
       "      <td>73791</td>\n",
       "      <td>B000HDOPZG</td>\n",
       "      <td>AR5J8UI46CURR</td>\n",
       "      <td>Geetha Krishnan</td>\n",
       "      <td>2</td>\n",
       "      <td>2</td>\n",
       "      <td>5</td>\n",
       "      <td>1199577600</td>\n",
       "      <td>LOACKER QUADRATINI VANILLA WAFERS</td>\n",
       "      <td>DELICIOUS WAFERS. I FIND THAT EUROPEAN WAFERS ...</td>\n",
       "    </tr>\n",
       "    <tr>\n",
       "      <td>4</td>\n",
       "      <td>155049</td>\n",
       "      <td>B000PAQ75C</td>\n",
       "      <td>AR5J8UI46CURR</td>\n",
       "      <td>Geetha Krishnan</td>\n",
       "      <td>2</td>\n",
       "      <td>2</td>\n",
       "      <td>5</td>\n",
       "      <td>1199577600</td>\n",
       "      <td>LOACKER QUADRATINI VANILLA WAFERS</td>\n",
       "      <td>DELICIOUS WAFERS. I FIND THAT EUROPEAN WAFERS ...</td>\n",
       "    </tr>\n",
       "  </tbody>\n",
       "</table>\n",
       "</div>"
      ],
      "text/plain": [
       "       Id   ProductId         UserId      ProfileName  HelpfulnessNumerator  \\\n",
       "0   78445  B000HDL1RQ  AR5J8UI46CURR  Geetha Krishnan                     2   \n",
       "1  138317  B000HDOPYC  AR5J8UI46CURR  Geetha Krishnan                     2   \n",
       "2  138277  B000HDOPYM  AR5J8UI46CURR  Geetha Krishnan                     2   \n",
       "3   73791  B000HDOPZG  AR5J8UI46CURR  Geetha Krishnan                     2   \n",
       "4  155049  B000PAQ75C  AR5J8UI46CURR  Geetha Krishnan                     2   \n",
       "\n",
       "   HelpfulnessDenominator  Score        Time  \\\n",
       "0                       2      5  1199577600   \n",
       "1                       2      5  1199577600   \n",
       "2                       2      5  1199577600   \n",
       "3                       2      5  1199577600   \n",
       "4                       2      5  1199577600   \n",
       "\n",
       "                             Summary  \\\n",
       "0  LOACKER QUADRATINI VANILLA WAFERS   \n",
       "1  LOACKER QUADRATINI VANILLA WAFERS   \n",
       "2  LOACKER QUADRATINI VANILLA WAFERS   \n",
       "3  LOACKER QUADRATINI VANILLA WAFERS   \n",
       "4  LOACKER QUADRATINI VANILLA WAFERS   \n",
       "\n",
       "                                                Text  \n",
       "0  DELICIOUS WAFERS. I FIND THAT EUROPEAN WAFERS ...  \n",
       "1  DELICIOUS WAFERS. I FIND THAT EUROPEAN WAFERS ...  \n",
       "2  DELICIOUS WAFERS. I FIND THAT EUROPEAN WAFERS ...  \n",
       "3  DELICIOUS WAFERS. I FIND THAT EUROPEAN WAFERS ...  \n",
       "4  DELICIOUS WAFERS. I FIND THAT EUROPEAN WAFERS ...  "
      ]
     },
     "execution_count": 13,
     "metadata": {},
     "output_type": "execute_result"
    }
   ],
   "source": [
    "display= pd.read_sql_query(\"\"\"\n",
    "SELECT *\n",
    "FROM Reviews\n",
    "WHERE Score != 3 AND UserId=\"AR5J8UI46CURR\"\n",
    "ORDER BY ProductID\n",
    "\"\"\", con)\n",
    "display.head()"
   ]
  },
  {
   "cell_type": "markdown",
   "metadata": {
    "colab_type": "text",
    "id": "GmHe67iviWNn"
   },
   "source": [
    "As it can be seen above that same user has multiple reviews with same values for HelpfulnessNumerator, HelpfulnessDenominator, Score, Time, Summary and Text and on doing analysis it was found that <br>\n",
    "<br> \n",
    "ProductId=B000HDOPZG was Loacker Quadratini Vanilla Wafer Cookies, 8.82-Ounce Packages (Pack of 8)<br>\n",
    "<br> \n",
    "ProductId=B000HDL1RQ was Loacker Quadratini Lemon Wafer Cookies, 8.82-Ounce Packages (Pack of 8) and so on<br>\n",
    "\n",
    "It was inferred after analysis that reviews with same parameters other than ProductId belonged to the same product just having different flavour or quantity. Hence in order to reduce redundancy it was decided to eliminate the rows having same parameters.<br>\n",
    "\n",
    "The method used for the same was that we first sort the data according to ProductId and then just keep the first similar product review and delelte the others. for eg. in the above just the review for ProductId=B000HDL1RQ remains. This method ensures that there is only one representative for each product and deduplication without sorting would lead to possibility of different representatives still existing for the same product."
   ]
  },
  {
   "cell_type": "code",
   "execution_count": 14,
   "metadata": {
    "colab": {},
    "colab_type": "code",
    "id": "wgmdXIJviWNn"
   },
   "outputs": [],
   "source": [
    "#Sorting data according to ProductId in ascending order\n",
    "sorted_data=filtered_data.sort_values('ProductId', axis=0, ascending=True, inplace=False, kind='quicksort', na_position='last')"
   ]
  },
  {
   "cell_type": "code",
   "execution_count": 15,
   "metadata": {
    "colab": {},
    "colab_type": "code",
    "id": "ComjQ0rHiWNp",
    "outputId": "1c155404-4bb7-4078-c46b-1a9a33ac0602"
   },
   "outputs": [
    {
     "data": {
      "text/plain": [
       "(87775, 10)"
      ]
     },
     "execution_count": 15,
     "metadata": {},
     "output_type": "execute_result"
    }
   ],
   "source": [
    "#Deduplication of entries\n",
    "final=sorted_data.drop_duplicates(subset={\"UserId\",\"ProfileName\",\"Time\",\"Text\"}, keep='first', inplace=False)\n",
    "final.shape"
   ]
  },
  {
   "cell_type": "code",
   "execution_count": 16,
   "metadata": {
    "colab": {},
    "colab_type": "code",
    "id": "yFrWiU23iWNt",
    "outputId": "b9d26952-d8af-4fbb-eb3d-c6a28abcc029"
   },
   "outputs": [
    {
     "data": {
      "text/plain": [
       "87.775"
      ]
     },
     "execution_count": 16,
     "metadata": {},
     "output_type": "execute_result"
    }
   ],
   "source": [
    "#Checking to see how much % of data still remains\n",
    "(final['Id'].size*1.0)/(filtered_data['Id'].size*1.0)*100"
   ]
  },
  {
   "cell_type": "markdown",
   "metadata": {
    "colab_type": "text",
    "id": "g4lvCHn6iWNw"
   },
   "source": [
    "<b>Observation:-</b> It was also seen that in two rows given below the value of HelpfulnessNumerator is greater than HelpfulnessDenominator which is not practically possible hence these two rows too are removed from calcualtions"
   ]
  },
  {
   "cell_type": "code",
   "execution_count": 11,
   "metadata": {
    "colab": {},
    "colab_type": "code",
    "id": "6ehzwEdgiWNw",
    "outputId": "60e18da4-784f-49d8-84b7-59823cfa3e85"
   },
   "outputs": [
    {
     "data": {
      "text/html": [
       "<div>\n",
       "<style scoped>\n",
       "    .dataframe tbody tr th:only-of-type {\n",
       "        vertical-align: middle;\n",
       "    }\n",
       "\n",
       "    .dataframe tbody tr th {\n",
       "        vertical-align: top;\n",
       "    }\n",
       "\n",
       "    .dataframe thead th {\n",
       "        text-align: right;\n",
       "    }\n",
       "</style>\n",
       "<table border=\"1\" class=\"dataframe\">\n",
       "  <thead>\n",
       "    <tr style=\"text-align: right;\">\n",
       "      <th></th>\n",
       "      <th>Id</th>\n",
       "      <th>ProductId</th>\n",
       "      <th>UserId</th>\n",
       "      <th>ProfileName</th>\n",
       "      <th>HelpfulnessNumerator</th>\n",
       "      <th>HelpfulnessDenominator</th>\n",
       "      <th>Score</th>\n",
       "      <th>Time</th>\n",
       "      <th>Summary</th>\n",
       "      <th>Text</th>\n",
       "    </tr>\n",
       "  </thead>\n",
       "  <tbody>\n",
       "    <tr>\n",
       "      <td>0</td>\n",
       "      <td>64422</td>\n",
       "      <td>B000MIDROQ</td>\n",
       "      <td>A161DK06JJMCYF</td>\n",
       "      <td>J. E. Stephens \"Jeanne\"</td>\n",
       "      <td>3</td>\n",
       "      <td>1</td>\n",
       "      <td>5</td>\n",
       "      <td>1224892800</td>\n",
       "      <td>Bought This for My Son at College</td>\n",
       "      <td>My son loves spaghetti so I didn't hesitate or...</td>\n",
       "    </tr>\n",
       "    <tr>\n",
       "      <td>1</td>\n",
       "      <td>44737</td>\n",
       "      <td>B001EQ55RW</td>\n",
       "      <td>A2V0I904FH7ABY</td>\n",
       "      <td>Ram</td>\n",
       "      <td>3</td>\n",
       "      <td>2</td>\n",
       "      <td>4</td>\n",
       "      <td>1212883200</td>\n",
       "      <td>Pure cocoa taste with crunchy almonds inside</td>\n",
       "      <td>It was almost a 'love at first bite' - the per...</td>\n",
       "    </tr>\n",
       "  </tbody>\n",
       "</table>\n",
       "</div>"
      ],
      "text/plain": [
       "      Id   ProductId          UserId              ProfileName  \\\n",
       "0  64422  B000MIDROQ  A161DK06JJMCYF  J. E. Stephens \"Jeanne\"   \n",
       "1  44737  B001EQ55RW  A2V0I904FH7ABY                      Ram   \n",
       "\n",
       "   HelpfulnessNumerator  HelpfulnessDenominator  Score        Time  \\\n",
       "0                     3                       1      5  1224892800   \n",
       "1                     3                       2      4  1212883200   \n",
       "\n",
       "                                        Summary  \\\n",
       "0             Bought This for My Son at College   \n",
       "1  Pure cocoa taste with crunchy almonds inside   \n",
       "\n",
       "                                                Text  \n",
       "0  My son loves spaghetti so I didn't hesitate or...  \n",
       "1  It was almost a 'love at first bite' - the per...  "
      ]
     },
     "execution_count": 11,
     "metadata": {},
     "output_type": "execute_result"
    }
   ],
   "source": [
    "display= pd.read_sql_query(\"\"\"\n",
    "SELECT *\n",
    "FROM Reviews\n",
    "WHERE Score != 3 AND Id=44737 OR Id=64422\n",
    "ORDER BY ProductID\n",
    "\"\"\", con)\n",
    "\n",
    "display.head()"
   ]
  },
  {
   "cell_type": "code",
   "execution_count": 17,
   "metadata": {
    "colab": {},
    "colab_type": "code",
    "id": "EBa1d6gViWNz"
   },
   "outputs": [],
   "source": [
    "final=final[final.HelpfulnessNumerator<=final.HelpfulnessDenominator]"
   ]
  },
  {
   "cell_type": "code",
   "execution_count": 18,
   "metadata": {
    "colab": {},
    "colab_type": "code",
    "id": "KNQ01asjiWN1",
    "outputId": "0d2433fb-dd33-41cd-a18d-110d776f60b4"
   },
   "outputs": [
    {
     "name": "stdout",
     "output_type": "stream",
     "text": [
      "(87773, 10)\n"
     ]
    },
    {
     "data": {
      "text/plain": [
       "1    73592\n",
       "0    14181\n",
       "Name: Score, dtype: int64"
      ]
     },
     "execution_count": 18,
     "metadata": {},
     "output_type": "execute_result"
    }
   ],
   "source": [
    "#Before starting the next phase of preprocessing lets see the number of entries left\n",
    "print(final.shape)\n",
    "\n",
    "#How many positive and negative reviews are present in our dataset?\n",
    "final['Score'].value_counts()"
   ]
  },
  {
   "cell_type": "markdown",
   "metadata": {
    "colab_type": "text",
    "id": "92IZ5ea0iWN4"
   },
   "source": [
    "#  [3] Preprocessing"
   ]
  },
  {
   "cell_type": "markdown",
   "metadata": {
    "colab_type": "text",
    "id": "NTwQITJKiWN5"
   },
   "source": [
    "## [3.1].  Preprocessing Review Text\n",
    "\n",
    "Now that we have finished deduplication our data requires some preprocessing before we go on further with analysis and making the prediction model.\n",
    "\n",
    "Hence in the Preprocessing phase we do the following in the order below:-\n",
    "\n",
    "1. Begin by removing the html tags\n",
    "2. Remove any punctuations or limited set of special characters like , or . or # etc.\n",
    "3. Check if the word is made up of english letters and is not alpha-numeric\n",
    "4. Check to see if the length of the word is greater than 2 (as it was researched that there is no adjective in 2-letters)\n",
    "5. Convert the word to lowercase\n",
    "6. Remove Stopwords\n",
    "7. Finally Snowball Stemming the word (it was obsereved to be better than Porter Stemming)<br>\n",
    "\n",
    "After which we collect the words used to describe positive and negative reviews"
   ]
  },
  {
   "cell_type": "code",
   "execution_count": 19,
   "metadata": {
    "colab": {},
    "colab_type": "code",
    "id": "qzIaKh8niWOC"
   },
   "outputs": [],
   "source": [
    "# https://stackoverflow.com/a/47091490/4084039\n",
    "import re\n",
    "from bs4 import BeautifulSoup\n",
    "\n",
    "def decontracted(phrase):\n",
    "    # specific\n",
    "    phrase = re.sub(r\"won't\", \"will not\", phrase)\n",
    "    phrase = re.sub(r\"can\\'t\", \"can not\", phrase)\n",
    "\n",
    "    # general\n",
    "    phrase = re.sub(r\"n\\'t\", \" not\", phrase)\n",
    "    phrase = re.sub(r\"\\'re\", \" are\", phrase)\n",
    "    phrase = re.sub(r\"\\'s\", \" is\", phrase)\n",
    "    phrase = re.sub(r\"\\'d\", \" would\", phrase)\n",
    "    phrase = re.sub(r\"\\'ll\", \" will\", phrase)\n",
    "    phrase = re.sub(r\"\\'t\", \" not\", phrase)\n",
    "    phrase = re.sub(r\"\\'ve\", \" have\", phrase)\n",
    "    phrase = re.sub(r\"\\'m\", \" am\", phrase)\n",
    "    return phrase"
   ]
  },
  {
   "cell_type": "code",
   "execution_count": 20,
   "metadata": {
    "colab": {},
    "colab_type": "code",
    "id": "MfzZtIP1iWOL"
   },
   "outputs": [],
   "source": [
    "# https://gist.github.com/sebleier/554280\n",
    "# we are removing the words from the stop words list: 'no', 'nor', 'not'\n",
    "# <br /><br /> ==> after the above steps, we are getting \"br br\"\n",
    "# we are including them into stop words list\n",
    "# instead of <br /> if we have <br/> these tags would have revmoved in the 1st step\n",
    "\n",
    "stopwords= set(['br', 'the', 'i', 'me', 'my', 'myself', 'we', 'our', 'ours', 'ourselves', 'you', \"you're\", \"you've\",\\\n",
    "            \"you'll\", \"you'd\", 'your', 'yours', 'yourself', 'yourselves', 'he', 'him', 'his', 'himself', \\\n",
    "            'she', \"she's\", 'her', 'hers', 'herself', 'it', \"it's\", 'its', 'itself', 'they', 'them', 'their',\\\n",
    "            'theirs', 'themselves', 'what', 'which', 'who', 'whom', 'this', 'that', \"that'll\", 'these', 'those', \\\n",
    "            'am', 'is', 'are', 'was', 'were', 'be', 'been', 'being', 'have', 'has', 'had', 'having', 'do', 'does', \\\n",
    "            'did', 'doing', 'a', 'an', 'the', 'and', 'but', 'if', 'or', 'because', 'as', 'until', 'while', 'of', \\\n",
    "            'at', 'by', 'for', 'with', 'about', 'against', 'between', 'into', 'through', 'during', 'before', 'after',\\\n",
    "            'above', 'below', 'to', 'from', 'up', 'down', 'in', 'out', 'on', 'off', 'over', 'under', 'again', 'further',\\\n",
    "            'then', 'once', 'here', 'there', 'when', 'where', 'why', 'how', 'all', 'any', 'both', 'each', 'few', 'more',\\\n",
    "            'most', 'other', 'some', 'such', 'only', 'own', 'same', 'so', 'than', 'too', 'very', \\\n",
    "            's', 't', 'can', 'will', 'just', 'don', \"don't\", 'should', \"should've\", 'now', 'd', 'll', 'm', 'o', 're', \\\n",
    "            've', 'y', 'ain', 'aren', \"aren't\", 'couldn', \"couldn't\", 'didn', \"didn't\", 'doesn', \"doesn't\", 'hadn',\\\n",
    "            \"hadn't\", 'hasn', \"hasn't\", 'haven', \"haven't\", 'isn', \"isn't\", 'ma', 'mightn', \"mightn't\", 'mustn',\\\n",
    "            \"mustn't\", 'needn', \"needn't\", 'shan', \"shan't\", 'shouldn', \"shouldn't\", 'wasn', \"wasn't\", 'weren', \"weren't\", \\\n",
    "            'won', \"won't\", 'wouldn', \"wouldn't\"])"
   ]
  },
  {
   "cell_type": "code",
   "execution_count": 21,
   "metadata": {
    "colab": {},
    "colab_type": "code",
    "id": "g1C43tjNiWOM",
    "outputId": "a997afc9-894c-4a56-d538-dadea8a21e6d"
   },
   "outputs": [
    {
     "name": "stderr",
     "output_type": "stream",
     "text": [
      "100%|██████████████████████████████████████████████████████████████████████████| 87773/87773 [01:11<00:00, 1221.03it/s]\n"
     ]
    }
   ],
   "source": [
    "# Combining all the above stundents \n",
    "from tqdm import tqdm\n",
    "preprocessed_reviews = []\n",
    "# tqdm is for printing the status bar\n",
    "for sentance in tqdm(final['Text'].values):\n",
    "    sentance = re.sub(r\"http\\S+\", \"\", sentance)\n",
    "    sentance = BeautifulSoup(sentance, 'lxml').get_text()\n",
    "    sentance = decontracted(sentance)\n",
    "    sentance = re.sub(\"\\S*\\d\\S*\", \"\", sentance).strip()\n",
    "    sentance = re.sub('[^A-Za-z]+', ' ', sentance)\n",
    "    # https://gist.github.com/sebleier/554280\n",
    "    sentance = ' '.join(e.lower() for e in sentance.split() if e.lower() not in stopwords)\n",
    "    preprocessed_reviews.append(sentance.strip())"
   ]
  },
  {
   "cell_type": "code",
   "execution_count": 22,
   "metadata": {
    "colab": {},
    "colab_type": "code",
    "id": "MWDrCFxViWOP",
    "outputId": "5618c9c3-a86a-42a4-e9c4-d24d93fd5a7a"
   },
   "outputs": [
    {
     "data": {
      "text/plain": [
       "'two reviewers already spoken recent one attempting undermine first reviewer said actually first reviewer know talking green tea contain caffeine expert source caffeinealthough black tea thought highest caffeine content tea actually untrue green tea caffeine however must understood compounds caffeine green tea functions special balancing way caffeine green tea surrounding tannic acid compounds inhibit surging bloodstream sense caffeine green tea time released bloodstream time release effect makes stimulation gentle quite pleasant also allows us feel effects green tea extended period time outlasts effects experienced friends drinking coffee cola effect green tea makes us free agitation nervousness blissful stimulation feels good senses enough said enjoy tea'"
      ]
     },
     "execution_count": 22,
     "metadata": {},
     "output_type": "execute_result"
    }
   ],
   "source": [
    "preprocessed_reviews[15002]"
   ]
  },
  {
   "cell_type": "markdown",
   "metadata": {
    "colab_type": "text",
    "id": "p2lyiwJ_iWOW"
   },
   "source": [
    "# [4] Featurization"
   ]
  },
  {
   "cell_type": "markdown",
   "metadata": {
    "colab_type": "text",
    "id": "T_LFck8iiWOX"
   },
   "source": [
    "## [4.1] BAG OF WORDS"
   ]
  },
  {
   "cell_type": "code",
   "execution_count": 18,
   "metadata": {
    "colab": {},
    "colab_type": "code",
    "id": "OVHZ9f8biWOX",
    "outputId": "b121f6f4-e30a-4184-b083-a77cdab3ca19"
   },
   "outputs": [
    {
     "name": "stdout",
     "output_type": "stream",
     "text": [
      "some feature names  ['aa', 'aaa', 'aaaa', 'aaaaa', 'aaaaaaaaaaaa', 'aaaaaaaaaaaaaaa', 'aaaaaaahhhhhh', 'aaaaaaarrrrrggghhh', 'aaaaaawwwwwwwwww', 'aaaaah']\n",
      "==================================================\n",
      "the type of count vectorizer  <class 'scipy.sparse.csr.csr_matrix'>\n",
      "the shape of out text BOW vectorizer  (87773, 54904)\n",
      "the number of unique words  54904\n"
     ]
    }
   ],
   "source": [
    "#BoW\n",
    "count_vect = CountVectorizer() #in scikit-learn\n",
    "count_vect.fit(preprocessed_reviews)\n",
    "print(\"some feature names \", count_vect.get_feature_names()[:10])\n",
    "print('='*50)\n",
    "\n",
    "final_counts = count_vect.transform(preprocessed_reviews)\n",
    "print(\"the type of count vectorizer \",type(final_counts))\n",
    "print(\"the shape of out text BOW vectorizer \",final_counts.get_shape())\n",
    "print(\"the number of unique words \", final_counts.get_shape()[1])"
   ]
  },
  {
   "cell_type": "markdown",
   "metadata": {
    "colab_type": "text",
    "id": "mjfrB76yiWOa"
   },
   "source": [
    "## [4.2] Bi-Grams and n-Grams."
   ]
  },
  {
   "cell_type": "code",
   "execution_count": 19,
   "metadata": {
    "colab": {},
    "colab_type": "code",
    "id": "mzOdOY6MiWOb",
    "outputId": "5ca07a6a-fb12-4deb-b0f4-21cdb42ccb7a"
   },
   "outputs": [
    {
     "name": "stdout",
     "output_type": "stream",
     "text": [
      "the type of count vectorizer  <class 'scipy.sparse.csr.csr_matrix'>\n",
      "the shape of out text BOW vectorizer  (87773, 5000)\n",
      "the number of unique words including both unigrams and bigrams  5000\n"
     ]
    }
   ],
   "source": [
    "#bi-gram, tri-gram and n-gram\n",
    "\n",
    "#removing stop words like \"not\" should be avoided before building n-gram\n",
    "count_vect = CountVectorizer(ngram_range=(1,2), min_df=10, max_features=5000)\n",
    "final_bigram_counts = count_vect.fit_transform(preprocessed_reviews)\n",
    "print(\"the type of count vectorizer \",type(final_bigram_counts))\n",
    "print(\"the shape of out text BOW vectorizer \",final_bigram_counts.get_shape())\n",
    "print(\"the number of unique words including both unigrams and bigrams \", final_bigram_counts.get_shape()[1])"
   ]
  },
  {
   "cell_type": "markdown",
   "metadata": {
    "colab_type": "text",
    "id": "0tcbbZxSiWOd"
   },
   "source": [
    "## [4.3] TF-IDF"
   ]
  },
  {
   "cell_type": "code",
   "execution_count": 20,
   "metadata": {
    "colab": {},
    "colab_type": "code",
    "id": "mQ3EDEsoiWOd",
    "outputId": "b305ed29-861d-40e9-c1df-b12c4e6492a8"
   },
   "outputs": [
    {
     "name": "stdout",
     "output_type": "stream",
     "text": [
      "some sample features(unique words in the corpus) ['aa', 'aafco', 'aback', 'abandon', 'abandoned', 'abdominal', 'ability', 'able', 'able add', 'able brew']\n",
      "==================================================\n",
      "the type of count vectorizer  <class 'scipy.sparse.csr.csr_matrix'>\n",
      "the shape of out text TFIDF vectorizer  (87773, 51709)\n",
      "the number of unique words including both unigrams and bigrams  51709\n"
     ]
    }
   ],
   "source": [
    "tf_idf_vect = TfidfVectorizer(ngram_range=(1,2), min_df=10)\n",
    "tf_idf_vect.fit(preprocessed_reviews)\n",
    "print(\"some sample features(unique words in the corpus)\",tf_idf_vect.get_feature_names()[0:10])\n",
    "print('='*50)\n",
    "\n",
    "final_tf_idf = tf_idf_vect.transform(preprocessed_reviews)\n",
    "print(\"the type of count vectorizer \",type(final_tf_idf))\n",
    "print(\"the shape of out text TFIDF vectorizer \",final_tf_idf.get_shape())\n",
    "print(\"the number of unique words including both unigrams and bigrams \", final_tf_idf.get_shape()[1])"
   ]
  },
  {
   "cell_type": "markdown",
   "metadata": {
    "colab_type": "text",
    "id": "u566lt93iWOf"
   },
   "source": [
    "## [4.4] Word2Vec"
   ]
  },
  {
   "cell_type": "code",
   "execution_count": 22,
   "metadata": {
    "colab": {},
    "colab_type": "code",
    "id": "pxlbMwFjiWOg"
   },
   "outputs": [],
   "source": [
    "# Train your own Word2Vec model using your own text corpus\n",
    "i=0\n",
    "list_of_sentance=[]\n",
    "for sentance in preprocessed_reviews:\n",
    "    list_of_sentance.append(sentance.split())"
   ]
  },
  {
   "cell_type": "code",
   "execution_count": 23,
   "metadata": {
    "colab": {},
    "colab_type": "code",
    "id": "NOd5wp0yiWOh",
    "outputId": "ae28439d-438c-4d88-ed12-db5f3317218f",
    "scrolled": true
   },
   "outputs": [
    {
     "name": "stdout",
     "output_type": "stream",
     "text": [
      "[('fantastic', 0.8592404723167419), ('terrific', 0.8256568908691406), ('good', 0.8240469098091125), ('awesome', 0.8234334588050842), ('excellent', 0.8104087114334106), ('wonderful', 0.7730631232261658), ('amazing', 0.7538352012634277), ('perfect', 0.7398526668548584), ('decent', 0.721411943435669), ('nice', 0.706905722618103)]\n",
      "==================================================\n",
      "[('greatest', 0.8042136430740356), ('tastiest', 0.7443652749061584), ('best', 0.7094506621360779), ('disgusting', 0.6532707214355469), ('coolest', 0.648635983467102), ('nastiest', 0.626747727394104), ('closest', 0.6160385608673096), ('horrible', 0.6064977049827576), ('smoothest', 0.5973740816116333), ('awful', 0.5962929725646973)]\n"
     ]
    }
   ],
   "source": [
    "# Using Google News Word2Vectors\n",
    "\n",
    "# in this project we are using a pretrained model by google\n",
    "# its 3.3G file, once you load this into your memory \n",
    "# it occupies ~9Gb, so please do this step only if you have >12G of ram\n",
    "\n",
    "is_your_ram_gt_16g=False\n",
    "want_to_use_google_w2v = False\n",
    "want_to_train_w2v = True\n",
    "\n",
    "if want_to_train_w2v:\n",
    "    # min_count = 5 considers only words that occured atleast 5 times\n",
    "    w2v_model=Word2Vec(list_of_sentance,min_count=5,size=50, workers=4)\n",
    "    print(w2v_model.wv.most_similar('great'))\n",
    "    print('='*50)\n",
    "    print(w2v_model.wv.most_similar('worst'))\n",
    "    \n",
    "elif want_to_use_google_w2v and is_your_ram_gt_16g:\n",
    "    if os.path.isfile('GoogleNews-vectors-negative300.bin'):\n",
    "        w2v_model=KeyedVectors.load_word2vec_format('GoogleNews-vectors-negative300.bin', binary=True)\n",
    "        print(w2v_model.wv.most_similar('great'))\n",
    "        print(w2v_model.wv.most_similar('worst'))\n",
    "    else:\n",
    "        print(\"you don't have gogole's word2vec file, keep want_to_train_w2v = True, to train your own w2v \")"
   ]
  },
  {
   "cell_type": "code",
   "execution_count": 24,
   "metadata": {
    "colab": {},
    "colab_type": "code",
    "id": "teE01Qk2iWOj",
    "outputId": "f063436c-8b62-49d3-e093-723395e66ccd"
   },
   "outputs": [
    {
     "name": "stdout",
     "output_type": "stream",
     "text": [
      "number of words that occured minimum 5 times  17386\n",
      "sample words  ['dogs', 'loves', 'chicken', 'product', 'china', 'wont', 'buying', 'anymore', 'hard', 'find', 'products', 'made', 'usa', 'one', 'isnt', 'bad', 'good', 'take', 'chances', 'till', 'know', 'going', 'imports', 'love', 'saw', 'pet', 'store', 'tag', 'attached', 'regarding', 'satisfied', 'safe', 'infestation', 'literally', 'everywhere', 'flying', 'around', 'kitchen', 'bought', 'hoping', 'least', 'get', 'rid', 'weeks', 'fly', 'stuck', 'squishing', 'buggers', 'success', 'rate']\n"
     ]
    }
   ],
   "source": [
    "w2v_words = list(w2v_model.wv.vocab)\n",
    "print(\"number of words that occured minimum 5 times \",len(w2v_words))\n",
    "print(\"sample words \", w2v_words[0:50])"
   ]
  },
  {
   "cell_type": "markdown",
   "metadata": {
    "colab_type": "text",
    "id": "mUNnof40iWOl"
   },
   "source": [
    "## [4.4.1] Converting text into vectors using Avg W2V, TFIDF-W2V"
   ]
  },
  {
   "cell_type": "markdown",
   "metadata": {
    "colab_type": "text",
    "id": "heHLB_FCiWOm"
   },
   "source": [
    "#### [4.4.1.1] Avg W2v"
   ]
  },
  {
   "cell_type": "code",
   "execution_count": 0,
   "metadata": {
    "colab": {},
    "colab_type": "code",
    "id": "iCYoNRANiWOm",
    "outputId": "96ebb104-44d7-4b7d-aa45-62614bbfcf44"
   },
   "outputs": [
    {
     "name": "stderr",
     "output_type": "stream",
     "text": [
      "100%|████████████████████████████████████████████████████████████████████████████| 4986/4986 [00:03<00:00, 1330.47it/s]\n"
     ]
    },
    {
     "name": "stdout",
     "output_type": "stream",
     "text": [
      "4986\n",
      "50\n"
     ]
    }
   ],
   "source": [
    "# average Word2Vec\n",
    "# compute average word2vec for each review.\n",
    "sent_vectors = []; # the avg-w2v for each sentence/review is stored in this list\n",
    "for sent in tqdm(list_of_sentance): # for each review/sentence\n",
    "    sent_vec = np.zeros(50) # as word vectors are of zero length 50, you might need to change this to 300 if you use google's w2v\n",
    "    cnt_words =0; # num of words with a valid vector in the sentence/review\n",
    "    for word in sent: # for each word in a review/sentence\n",
    "        if word in w2v_words:\n",
    "            vec = w2v_model.wv[word]\n",
    "            sent_vec += vec\n",
    "            cnt_words += 1\n",
    "    if cnt_words != 0:\n",
    "        sent_vec /= cnt_words\n",
    "    sent_vectors.append(sent_vec)\n",
    "print(len(sent_vectors))\n",
    "print(len(sent_vectors[0]))"
   ]
  },
  {
   "cell_type": "markdown",
   "metadata": {
    "colab_type": "text",
    "id": "ylTn3LgiiWOo"
   },
   "source": [
    "#### [4.4.1.2] TFIDF weighted W2v"
   ]
  },
  {
   "cell_type": "code",
   "execution_count": 26,
   "metadata": {
    "colab": {},
    "colab_type": "code",
    "id": "XBxf_qKSiWOo"
   },
   "outputs": [],
   "source": [
    "# S = [\"abc def pqr\", \"def def def abc\", \"pqr pqr def\"]\n",
    "model = TfidfVectorizer()\n",
    "tf_idf_matrix = model.fit_transform(preprocessed_reviews)\n",
    "# we are converting a dictionary with word as a key, and the idf as a value\n",
    "dictionary = dict(zip(model.get_feature_names(), list(model.idf_)))"
   ]
  },
  {
   "cell_type": "code",
   "execution_count": 40,
   "metadata": {
    "colab": {},
    "colab_type": "code",
    "id": "5FHQMSyUiWOp",
    "outputId": "6b5b71be-e3f7-4933-cd74-f78fb703132d",
    "scrolled": true
   },
   "outputs": [
    {
     "name": "stderr",
     "output_type": "stream",
     "text": [
      "100%|██████████████████████████████████████████████████████████████████████████████| 5000/5000 [04:18<00:00, 23.91it/s]\n",
      "                                                                                                                       \n",
      "\n",
      "\n",
      "                                                                                                                       \n",
      "\n",
      "                                                                                                                       \n",
      "\n",
      "\n",
      "\n",
      "100%|██████████████████████████████████████████████████████████████████████████████| 5000/5000 [04:18<00:00, 19.32it/s]\n"
     ]
    }
   ],
   "source": [
    "\n",
    "from tqdm import tqdm\n",
    "# TF-IDF weighted Word2Vec\n",
    "tfidf_feat = model.get_feature_names() # tfidf words/col-names\n",
    "# final_tf_idf is the sparse matrix with row= sentence, col=word and cell_val = tfidf\n",
    "\n",
    "tfidf_sent_vectors = []; # the tfidf-w2v for each sentence/review is stored in this list\n",
    "row=0;\n",
    "for sent in tqdm(list_of_sentance[0:5000], position = 0): # for each review/sentence \n",
    "    sent_vec = np.zeros(50) # as word vectors are of zero length\n",
    "    weight_sum =0; # num of words with a valid vector in the sentence/review\n",
    "    for word in sent: # for each word in a review/sentence\n",
    "        if word in w2v_words and word in tfidf_feat:\n",
    "            vec = w2v_model.wv[word]\n",
    "#             tf_idf = tf_idf_matrix[row, tfidf_feat.index(word)]\n",
    "            # to reduce the computation we are \n",
    "            # dictionary[word] = idf value of word in whole courpus\n",
    "            # sent.count(word) = tf valeus of word in this review\n",
    "            tf_idf = dictionary[word]*(sent.count(word)/len(sent))\n",
    "            sent_vec += (vec * tf_idf)\n",
    "            weight_sum += tf_idf\n",
    "    if weight_sum != 0:\n",
    "        sent_vec /= weight_sum\n",
    "    tfidf_sent_vectors.append(sent_vec)\n",
    "    row += 1"
   ]
  },
  {
   "cell_type": "markdown",
   "metadata": {
    "colab_type": "text",
    "id": "ayLYlocviWOs"
   },
   "source": [
    "# [5]Applying Decision Trees"
   ]
  },
  {
   "cell_type": "code",
   "execution_count": 5,
   "metadata": {},
   "outputs": [],
   "source": [
    "from sklearn.model_selection import train_test_split\n",
    "from sklearn.tree import DecisionTreeClassifier\n",
    "from sklearn.metrics import roc_auc_score,roc_curve\n",
    "from sklearn.model_selection import cross_val_score\n",
    "from scikitplot.metrics import plot_confusion_matrix\n"
   ]
  },
  {
   "cell_type": "code",
   "execution_count": 23,
   "metadata": {},
   "outputs": [],
   "source": [
    "x_train,x_test,y_train,y_test = train_test_split(preprocessed_reviews,final[\"Score\"], test_size = 0.3)\n",
    "    "
   ]
  },
  {
   "cell_type": "code",
   "execution_count": 40,
   "metadata": {},
   "outputs": [],
   "source": [
    "from tqdm import tqdm\n",
    "def DecisionTrees_train(x_tr, x_tst):\n",
    "    #finding the best values of hyperparameters max_depth and min_samples_split\n",
    "    train_scores = []\n",
    "    cv_scores = []\n",
    "    depth = [4,6, 8, 9,10,12,14,17]\n",
    "    min_samples = [2,10,20,30,40,50]\n",
    "    for d in tqdm(depth, position=0):\n",
    "        for samples in min_samples:\n",
    "            model = DecisionTreeClassifier(max_depth=d, min_samples_split=samples)\n",
    "            model.fit(x_tr,y_train)\n",
    "            train_proba = model.predict_proba(x_tr)\n",
    "            train_score = roc_auc_score(y_train, train_proba[:,1])\n",
    "            train_scores.append(train_score)\n",
    "            #10 fold cross validation\n",
    "            score = cross_val_score(model,x_tr,y_train,cv = 10, scoring='roc_auc', n_jobs=-1)\n",
    "            cv_scores.append(score.mean())\n",
    "    \n",
    "    #reshaping auc scores as 2D matrix with depth as rows and min_samples as columns\n",
    "    train_scores = np.array(train_scores)\n",
    "    train_scores = train_scores.reshape((len(depth), len(min_samples)))\n",
    "    cv_scores = np.array(cv_scores)\n",
    "    cv_scores = cv_scores.reshape((len(depth),len(min_samples)))\n",
    "    \n",
    "    #plotting heatmaps\n",
    "    sns.set_style(\"whitegrid\")\n",
    "    plt.figure(figsize = (8,6))\n",
    "    sns.heatmap(train_scores,fmt = '.3f', cmap = \"coolwarm\", annot = True,xticklabels=min_samples, yticklabels = depth)\n",
    "    plt.xlabel(\"min_samples_split\")\n",
    "    plt.ylabel(\"max_depth\")\n",
    "    plt.title(\"train roc auc scores\")\n",
    "    plt.show()\n",
    "    \n",
    "    plt.figure(figsize = (8,6))\n",
    "    sns.heatmap(cv_scores,fmt = '.3f', cmap = \"coolwarm\", annot = True,xticklabels=min_samples, yticklabels= depth)\n",
    "    plt.xlabel(\"min_samples_split\")\n",
    "    plt.ylabel(\"max_depth\")\n",
    "    plt.title(\"cross validation roc auc scores\")\n",
    "    plt.show()\n",
    "    \n",
    "    #getting the optimal values for hyperparameter\n",
    "    print(\"Maximum CV score is\" , np.amax(cv_scores))\n",
    "    indexes = np.where(cv_scores == np.amax(cv_scores))\n",
    "    optimal_depth = depth[int(indexes[0])]\n",
    "    optimal_min_samples_split = min_samples[int(indexes[1])]\n",
    "    print(\"Optimal value of max_depth is %d and min_sample_split is %d \"%(optimal_depth,optimal_min_samples_split))\n",
    "    \n",
    "    return optimal_depth,optimal_min_samples_split"
   ]
  },
  {
   "cell_type": "code",
   "execution_count": 25,
   "metadata": {},
   "outputs": [],
   "source": [
    "def test(x_tr,x_tst,optimal_depth, optimal_min_samples_split):\n",
    "    #fitting optimal model\n",
    "    model = DecisionTreeClassifier(max_depth = optimal_depth, min_samples_split = optimal_min_samples_split)\n",
    "    model.fit(x_tr,y_train)\n",
    "    \n",
    "    test_proba = model.predict_proba(x_tst)\n",
    "    train_proba = model.predict_proba(x_tr)\n",
    "    \n",
    "    train_auc = roc_auc_score(y_train, train_proba[:,1])\n",
    "    test_auc = roc_auc_score(y_test, test_proba[:,1])\n",
    "    fpr, tpr, thresholds = roc_curve(y_train, train_proba[:,1])\n",
    "    fpr1, tpr1, thresholds1 = roc_curve(y_test, test_proba[:,1])\n",
    "    \n",
    "    #plotting roc curves\n",
    "    sns.set_style('whitegrid')\n",
    "    #plot no skill\n",
    "    plt.plot([0,1],[0,1],'b--')\n",
    "    plt.plot(fpr,tpr, label = \"train ROC \" + str(train_auc))\n",
    "    plt.plot(fpr1, tpr1, label = \"test ROC \" + str(test_auc))\n",
    "    plt.title(\"ROC curves for train and test data\")\n",
    "    plt.legend()\n",
    "    plt.show()\n",
    "    print(\" Test auc score is \", test_auc)\n",
    "    \n",
    "    #plotting confusion matrix\n",
    "    y_pred = model.predict(x_tst)\n",
    "    plot_confusion_matrix(y_test, y_pred,cmap = 'Greens', figsize = (6,6))\n",
    "    plt.title(\"test data confusion matrix\")\n",
    "    plt.show()\n",
    "    \n",
    "    \n",
    "    "
   ]
  },
  {
   "cell_type": "markdown",
   "metadata": {
    "colab_type": "text",
    "id": "fvKQwJMWiWOt"
   },
   "source": [
    "## [5.1] Applying Decision Trees on BOW,<font color='red'> SET 1</font>"
   ]
  },
  {
   "cell_type": "code",
   "execution_count": 26,
   "metadata": {
    "colab": {},
    "colab_type": "code",
    "id": "vnSi4W-iiWOt"
   },
   "outputs": [],
   "source": [
    "count_vect = CountVectorizer(ngram_range=(1,2), min_df = 10)\n",
    "train_bow = count_vect.fit_transform(x_train)\n",
    "test_bow  = count_vect.transform(x_test)"
   ]
  },
  {
   "cell_type": "code",
   "execution_count": 45,
   "metadata": {},
   "outputs": [
    {
     "name": "stderr",
     "output_type": "stream",
     "text": [
      "100%|███████████████████████████████████████████████████████████████████████████████████| 8/8 [15:29<00:00, 116.13s/it]\n"
     ]
    },
    {
     "data": {
      "image/png": "[encoded data removed]",
      "text/plain": [
       "<Figure size 576x432 with 2 Axes>"
      ]
     },
     "metadata": {},
     "output_type": "display_data"
    },
    {
     "data": {
      "image/png": "[encoded data removed]",
      "text/plain": [
       "<Figure size 576x432 with 2 Axes>"
      ]
     },
     "metadata": {},
     "output_type": "display_data"
    },
    {
     "name": "stdout",
     "output_type": "stream",
     "text": [
      "Maximum CV score is 0.7906403197989201\n",
      "Optimal value of max_depth is 17 and min_sample_split is 50 \n"
     ]
    }
   ],
   "source": [
    "optimal_depth, optimal_min_samples_split = DecisionTrees_train(train_bow, test_bow)"
   ]
  },
  {
   "cell_type": "code",
   "execution_count": 26,
   "metadata": {},
   "outputs": [
    {
     "data": {
      "image/png": "[encoded data removed]",
      "text/plain": [
       "<Figure size 432x288 with 1 Axes>"
      ]
     },
     "metadata": {},
     "output_type": "display_data"
    },
    {
     "name": "stdout",
     "output_type": "stream",
     "text": [
      " Test auc score is  0.7979041084517883\n"
     ]
    },
    {
     "data": {
      "image/png": "[encoded data removed]",
      "text/plain": [
       "<Figure size 432x288 with 2 Axes>"
      ]
     },
     "metadata": {},
     "output_type": "display_data"
    }
   ],
   "source": [
    "test(train_bow, test_bow, optimal_depth, optimal_min_samples_split)"
   ]
  },
  {
   "cell_type": "markdown",
   "metadata": {
    "colab_type": "text",
    "id": "jm4vkPwMiWOu"
   },
   "source": [
    "### [5.1.1] Top 20 important features from<font color='red'> SET 1</font>"
   ]
  },
  {
   "cell_type": "code",
   "execution_count": 28,
   "metadata": {
    "colab": {},
    "colab_type": "code",
    "id": "puCcjOAkiWOv"
   },
   "outputs": [
    {
     "name": "stdout",
     "output_type": "stream",
     "text": [
      "top 20 features are:\n",
      "\n",
      "                 feature_names\t            feature_importance\n",
      "----------------------------------------------------------------------------------------------------\n",
      "                           not\t\t\t0.105048\n",
      "                         great\t\t\t0.077546\n",
      "                         worst\t\t\t0.046641\n",
      "                       not buy\t\t\t0.046595\n",
      "                  disappointed\t\t\t0.046579\n",
      "                   waste money\t\t\t0.043067\n",
      "                        return\t\t\t0.034332\n",
      "                         awful\t\t\t0.032146\n",
      "                     not worth\t\t\t0.030861\n",
      "                          best\t\t\t0.029384\n",
      "                 not recommend\t\t\t0.028987\n",
      "              not disappointed\t\t\t0.028858\n",
      "                      terrible\t\t\t0.028453\n",
      "                     delicious\t\t\t0.025454\n",
      "                          love\t\t\t0.023876\n",
      "                          good\t\t\t0.021707\n",
      "                           bad\t\t\t0.019108\n",
      "                      not good\t\t\t0.018385\n",
      "                         loves\t\t\t0.013135\n",
      "                 disappointing\t\t\t0.013123\n"
     ]
    }
   ],
   "source": [
    "optimal_depth = 17\n",
    "optimal_min_samples_split = 50\n",
    "\n",
    "feat_name = count_vect.get_feature_names()\n",
    "\n",
    "clf = DecisionTreeClassifier(max_depth = optimal_depth, min_samples_split = optimal_min_samples_split)\n",
    "clf.fit(train_bow, y_train)\n",
    "feat_importance = clf.feature_importances_\n",
    "feat_dict = dict(zip(feat_importance, feat_name))\n",
    "feat_importance = sorted(feat_importance, reverse = True)\n",
    "print(\"top 20 features are:\")\n",
    "print()\n",
    "print(\"%30s\\t%30s\"%(\"feature_names\",\"feature_importance\"))\n",
    "print(\"-\"*100)\n",
    "for imp in feat_importance[0:20]:\n",
    "    print(\"%30s\\t\\t\\t%f\"%(feat_dict[imp],imp))"
   ]
  },
  {
   "cell_type": "markdown",
   "metadata": {
    "colab_type": "text",
    "id": "7JyitDTTiWOx"
   },
   "source": [
    "### [5.1.2] Graphviz visualization of Decision Tree on BOW,<font color='red'> SET 1</font>"
   ]
  },
  {
   "cell_type": "code",
   "execution_count": 29,
   "metadata": {
    "colab": {},
    "colab_type": "code",
    "id": "-jxU7zrAiWOy"
   },
   "outputs": [
    {
     "data": {
      "image/svg+xml": [
       "<?xml version=\"1.0\" encoding=\"UTF-8\" standalone=\"no\"?>\r\n",
       "<!DOCTYPE svg PUBLIC \"-//W3C//DTD SVG 1.1//EN\"\r\n",
       " \"http://www.w3.org/Graphics/SVG/1.1/DTD/svg11.dtd\">\r\n",
       "<!-- Generated by graphviz version 2.38.0 (20140413.2041)\r\n",
       " -->\r\n",
       "<!-- Title: Tree Pages: 1 -->\r\n",
       "<svg width=\"650pt\" height=\"356pt\"\r\n",
       " viewBox=\"0.00 0.00 650.00 356.00\" xmlns=\"http://www.w3.org/2000/svg\" xmlns:xlink=\"http://www.w3.org/1999/xlink\">\r\n",
       "<g id=\"graph0\" class=\"graph\" transform=\"scale(1 1) rotate(0) translate(4 352)\">\r\n",
       "<title>Tree</title>\r\n",
       "<polygon fill=\"white\" stroke=\"none\" points=\"-4,4 -4,-352 646,-352 646,4 -4,4\"/>\r\n",
       "<!-- 0 -->\r\n",
       "<g id=\"node1\" class=\"node\"><title>0</title>\r\n",
       "<polygon fill=\"none\" stroke=\"black\" points=\"391,-348 253,-348 253,-280 391,-280 391,-348\"/>\r\n",
       "<text text-anchor=\"middle\" x=\"322\" y=\"-332.8\" font-family=\"Times New Roman,serif\" font-size=\"14.00\">not &lt;= 0.5</text>\r\n",
       "<text text-anchor=\"middle\" x=\"322\" y=\"-317.8\" font-family=\"Times New Roman,serif\" font-size=\"14.00\">gini = 0.271</text>\r\n",
       "<text text-anchor=\"middle\" x=\"322\" y=\"-302.8\" font-family=\"Times New Roman,serif\" font-size=\"14.00\">samples = 61441</text>\r\n",
       "<text text-anchor=\"middle\" x=\"322\" y=\"-287.8\" font-family=\"Times New Roman,serif\" font-size=\"14.00\">value = [9940, 51501]</text>\r\n",
       "</g>\r\n",
       "<!-- 1 -->\r\n",
       "<g id=\"node2\" class=\"node\"><title>1</title>\r\n",
       "<polygon fill=\"none\" stroke=\"black\" points=\"307,-244 169,-244 169,-176 307,-176 307,-244\"/>\r\n",
       "<text text-anchor=\"middle\" x=\"238\" y=\"-228.8\" font-family=\"Times New Roman,serif\" font-size=\"14.00\">disappointed &lt;= 0.5</text>\r\n",
       "<text text-anchor=\"middle\" x=\"238\" y=\"-213.8\" font-family=\"Times New Roman,serif\" font-size=\"14.00\">gini = 0.16</text>\r\n",
       "<text text-anchor=\"middle\" x=\"238\" y=\"-198.8\" font-family=\"Times New Roman,serif\" font-size=\"14.00\">samples = 27864</text>\r\n",
       "<text text-anchor=\"middle\" x=\"238\" y=\"-183.8\" font-family=\"Times New Roman,serif\" font-size=\"14.00\">value = [2447, 25417]</text>\r\n",
       "</g>\r\n",
       "<!-- 0&#45;&gt;1 -->\r\n",
       "<g id=\"edge1\" class=\"edge\"><title>0&#45;&gt;1</title>\r\n",
       "<path fill=\"none\" stroke=\"black\" d=\"M294.728,-279.884C287.465,-271.065 279.531,-261.43 271.958,-252.235\"/>\r\n",
       "<polygon fill=\"black\" stroke=\"black\" points=\"274.482,-249.794 265.423,-244.299 269.078,-254.244 274.482,-249.794\"/>\r\n",
       "<text text-anchor=\"middle\" x=\"263.015\" y=\"-265.483\" font-family=\"Times New Roman,serif\" font-size=\"14.00\">True</text>\r\n",
       "</g>\r\n",
       "<!-- 214 -->\r\n",
       "<g id=\"node9\" class=\"node\"><title>214</title>\r\n",
       "<polygon fill=\"none\" stroke=\"black\" points=\"476,-244 338,-244 338,-176 476,-176 476,-244\"/>\r\n",
       "<text text-anchor=\"middle\" x=\"407\" y=\"-228.8\" font-family=\"Times New Roman,serif\" font-size=\"14.00\">great &lt;= 0.5</text>\r\n",
       "<text text-anchor=\"middle\" x=\"407\" y=\"-213.8\" font-family=\"Times New Roman,serif\" font-size=\"14.00\">gini = 0.347</text>\r\n",
       "<text text-anchor=\"middle\" x=\"407\" y=\"-198.8\" font-family=\"Times New Roman,serif\" font-size=\"14.00\">samples = 33577</text>\r\n",
       "<text text-anchor=\"middle\" x=\"407\" y=\"-183.8\" font-family=\"Times New Roman,serif\" font-size=\"14.00\">value = [7493, 26084]</text>\r\n",
       "</g>\r\n",
       "<!-- 0&#45;&gt;214 -->\r\n",
       "<g id=\"edge8\" class=\"edge\"><title>0&#45;&gt;214</title>\r\n",
       "<path fill=\"none\" stroke=\"black\" d=\"M349.597,-279.884C356.946,-271.065 364.975,-261.43 372.637,-252.235\"/>\r\n",
       "<polygon fill=\"black\" stroke=\"black\" points=\"375.537,-254.222 379.251,-244.299 370.16,-249.741 375.537,-254.222\"/>\r\n",
       "<text text-anchor=\"middle\" x=\"381.514\" y=\"-265.497\" font-family=\"Times New Roman,serif\" font-size=\"14.00\">False</text>\r\n",
       "</g>\r\n",
       "<!-- 2 -->\r\n",
       "<g id=\"node3\" class=\"node\"><title>2</title>\r\n",
       "<polygon fill=\"none\" stroke=\"black\" points=\"138,-140 0,-140 0,-72 138,-72 138,-140\"/>\r\n",
       "<text text-anchor=\"middle\" x=\"69\" y=\"-124.8\" font-family=\"Times New Roman,serif\" font-size=\"14.00\">worst &lt;= 0.5</text>\r\n",
       "<text text-anchor=\"middle\" x=\"69\" y=\"-109.8\" font-family=\"Times New Roman,serif\" font-size=\"14.00\">gini = 0.152</text>\r\n",
       "<text text-anchor=\"middle\" x=\"69\" y=\"-94.8\" font-family=\"Times New Roman,serif\" font-size=\"14.00\">samples = 27571</text>\r\n",
       "<text text-anchor=\"middle\" x=\"69\" y=\"-79.8\" font-family=\"Times New Roman,serif\" font-size=\"14.00\">value = [2285, 25286]</text>\r\n",
       "</g>\r\n",
       "<!-- 1&#45;&gt;2 -->\r\n",
       "<g id=\"edge2\" class=\"edge\"><title>1&#45;&gt;2</title>\r\n",
       "<path fill=\"none\" stroke=\"black\" d=\"M183.131,-175.884C166.962,-166.125 149.136,-155.366 132.475,-145.31\"/>\r\n",
       "<polygon fill=\"black\" stroke=\"black\" points=\"134.253,-142.296 123.883,-140.125 130.636,-148.289 134.253,-142.296\"/>\r\n",
       "</g>\r\n",
       "<!-- 183 -->\r\n",
       "<g id=\"node6\" class=\"node\"><title>183</title>\r\n",
       "<polygon fill=\"none\" stroke=\"black\" points=\"320,-140 156,-140 156,-72 320,-72 320,-140\"/>\r\n",
       "<text text-anchor=\"middle\" x=\"238\" y=\"-124.8\" font-family=\"Times New Roman,serif\" font-size=\"14.00\">never disappointed &lt;= 0.5</text>\r\n",
       "<text text-anchor=\"middle\" x=\"238\" y=\"-109.8\" font-family=\"Times New Roman,serif\" font-size=\"14.00\">gini = 0.494</text>\r\n",
       "<text text-anchor=\"middle\" x=\"238\" y=\"-94.8\" font-family=\"Times New Roman,serif\" font-size=\"14.00\">samples = 293</text>\r\n",
       "<text text-anchor=\"middle\" x=\"238\" y=\"-79.8\" font-family=\"Times New Roman,serif\" font-size=\"14.00\">value = [162, 131]</text>\r\n",
       "</g>\r\n",
       "<!-- 1&#45;&gt;183 -->\r\n",
       "<g id=\"edge5\" class=\"edge\"><title>1&#45;&gt;183</title>\r\n",
       "<path fill=\"none\" stroke=\"black\" d=\"M238,-175.884C238,-167.778 238,-158.982 238,-150.472\"/>\r\n",
       "<polygon fill=\"black\" stroke=\"black\" points=\"241.5,-150.299 238,-140.299 234.5,-150.299 241.5,-150.299\"/>\r\n",
       "</g>\r\n",
       "<!-- 3 -->\r\n",
       "<g id=\"node4\" class=\"node\"><title>3</title>\r\n",
       "<polygon fill=\"none\" stroke=\"black\" points=\"88,-36 34,-36 34,-0 88,-0 88,-36\"/>\r\n",
       "<text text-anchor=\"middle\" x=\"61\" y=\"-14.3\" font-family=\"Times New Roman,serif\" font-size=\"14.00\">(...)</text>\r\n",
       "</g>\r\n",
       "<!-- 2&#45;&gt;3 -->\r\n",
       "<g id=\"edge3\" class=\"edge\"><title>2&#45;&gt;3</title>\r\n",
       "<path fill=\"none\" stroke=\"black\" d=\"M65.9299,-71.9961C65.1455,-63.5646 64.3107,-54.5902 63.5553,-46.4696\"/>\r\n",
       "<polygon fill=\"black\" stroke=\"black\" points=\"67.0302,-46.0362 62.6189,-36.4034 60.0603,-46.6846 67.0302,-46.0362\"/>\r\n",
       "</g>\r\n",
       "<!-- 170 -->\r\n",
       "<g id=\"node5\" class=\"node\"><title>170</title>\r\n",
       "<polygon fill=\"none\" stroke=\"black\" points=\"160,-36 106,-36 106,-0 160,-0 160,-36\"/>\r\n",
       "<text text-anchor=\"middle\" x=\"133\" y=\"-14.3\" font-family=\"Times New Roman,serif\" font-size=\"14.00\">(...)</text>\r\n",
       "</g>\r\n",
       "<!-- 2&#45;&gt;170 -->\r\n",
       "<g id=\"edge4\" class=\"edge\"><title>2&#45;&gt;170</title>\r\n",
       "<path fill=\"none\" stroke=\"black\" d=\"M93.561,-71.9961C100.329,-62.9014 107.567,-53.1752 113.971,-44.57\"/>\r\n",
       "<polygon fill=\"black\" stroke=\"black\" points=\"116.886,-46.5153 120.049,-36.4034 111.271,-42.3362 116.886,-46.5153\"/>\r\n",
       "</g>\r\n",
       "<!-- 184 -->\r\n",
       "<g id=\"node7\" class=\"node\"><title>184</title>\r\n",
       "<polygon fill=\"none\" stroke=\"black\" points=\"248,-36 194,-36 194,-0 248,-0 248,-36\"/>\r\n",
       "<text text-anchor=\"middle\" x=\"221\" y=\"-14.3\" font-family=\"Times New Roman,serif\" font-size=\"14.00\">(...)</text>\r\n",
       "</g>\r\n",
       "<!-- 183&#45;&gt;184 -->\r\n",
       "<g id=\"edge6\" class=\"edge\"><title>183&#45;&gt;184</title>\r\n",
       "<path fill=\"none\" stroke=\"black\" d=\"M231.476,-71.9961C229.809,-63.5646 228.035,-54.5902 226.43,-46.4696\"/>\r\n",
       "<polygon fill=\"black\" stroke=\"black\" points=\"229.813,-45.5348 224.44,-36.4034 222.946,-46.8923 229.813,-45.5348\"/>\r\n",
       "</g>\r\n",
       "<!-- 213 -->\r\n",
       "<g id=\"node8\" class=\"node\"><title>213</title>\r\n",
       "<polygon fill=\"none\" stroke=\"black\" points=\"320,-36 266,-36 266,-0 320,-0 320,-36\"/>\r\n",
       "<text text-anchor=\"middle\" x=\"293\" y=\"-14.3\" font-family=\"Times New Roman,serif\" font-size=\"14.00\">(...)</text>\r\n",
       "</g>\r\n",
       "<!-- 183&#45;&gt;213 -->\r\n",
       "<g id=\"edge7\" class=\"edge\"><title>183&#45;&gt;213</title>\r\n",
       "<path fill=\"none\" stroke=\"black\" d=\"M259.107,-71.9961C264.863,-62.9962 271.014,-53.3778 276.475,-44.8393\"/>\r\n",
       "<polygon fill=\"black\" stroke=\"black\" points=\"279.431,-46.7136 281.87,-36.4034 273.534,-42.9422 279.431,-46.7136\"/>\r\n",
       "</g>\r\n",
       "<!-- 215 -->\r\n",
       "<g id=\"node10\" class=\"node\"><title>215</title>\r\n",
       "<polygon fill=\"none\" stroke=\"black\" points=\"476,-140 338,-140 338,-72 476,-72 476,-140\"/>\r\n",
       "<text text-anchor=\"middle\" x=\"407\" y=\"-124.8\" font-family=\"Times New Roman,serif\" font-size=\"14.00\">not buy &lt;= 0.5</text>\r\n",
       "<text text-anchor=\"middle\" x=\"407\" y=\"-109.8\" font-family=\"Times New Roman,serif\" font-size=\"14.00\">gini = 0.388</text>\r\n",
       "<text text-anchor=\"middle\" x=\"407\" y=\"-94.8\" font-family=\"Times New Roman,serif\" font-size=\"14.00\">samples = 25756</text>\r\n",
       "<text text-anchor=\"middle\" x=\"407\" y=\"-79.8\" font-family=\"Times New Roman,serif\" font-size=\"14.00\">value = [6770, 18986]</text>\r\n",
       "</g>\r\n",
       "<!-- 214&#45;&gt;215 -->\r\n",
       "<g id=\"edge9\" class=\"edge\"><title>214&#45;&gt;215</title>\r\n",
       "<path fill=\"none\" stroke=\"black\" d=\"M407,-175.884C407,-167.778 407,-158.982 407,-150.472\"/>\r\n",
       "<polygon fill=\"black\" stroke=\"black\" points=\"410.5,-150.299 407,-140.299 403.5,-150.299 410.5,-150.299\"/>\r\n",
       "</g>\r\n",
       "<!-- 526 -->\r\n",
       "<g id=\"node13\" class=\"node\"><title>526</title>\r\n",
       "<polygon fill=\"none\" stroke=\"black\" points=\"619.5,-140 494.5,-140 494.5,-72 619.5,-72 619.5,-140\"/>\r\n",
       "<text text-anchor=\"middle\" x=\"557\" y=\"-124.8\" font-family=\"Times New Roman,serif\" font-size=\"14.00\">not great &lt;= 0.5</text>\r\n",
       "<text text-anchor=\"middle\" x=\"557\" y=\"-109.8\" font-family=\"Times New Roman,serif\" font-size=\"14.00\">gini = 0.168</text>\r\n",
       "<text text-anchor=\"middle\" x=\"557\" y=\"-94.8\" font-family=\"Times New Roman,serif\" font-size=\"14.00\">samples = 7821</text>\r\n",
       "<text text-anchor=\"middle\" x=\"557\" y=\"-79.8\" font-family=\"Times New Roman,serif\" font-size=\"14.00\">value = [723, 7098]</text>\r\n",
       "</g>\r\n",
       "<!-- 214&#45;&gt;526 -->\r\n",
       "<g id=\"edge12\" class=\"edge\"><title>214&#45;&gt;526</title>\r\n",
       "<path fill=\"none\" stroke=\"black\" d=\"M455.701,-175.884C469.788,-166.304 485.293,-155.761 499.846,-145.864\"/>\r\n",
       "<polygon fill=\"black\" stroke=\"black\" points=\"501.986,-148.642 508.287,-140.125 498.05,-142.854 501.986,-148.642\"/>\r\n",
       "</g>\r\n",
       "<!-- 216 -->\r\n",
       "<g id=\"node11\" class=\"node\"><title>216</title>\r\n",
       "<polygon fill=\"none\" stroke=\"black\" points=\"413,-36 359,-36 359,-0 413,-0 413,-36\"/>\r\n",
       "<text text-anchor=\"middle\" x=\"386\" y=\"-14.3\" font-family=\"Times New Roman,serif\" font-size=\"14.00\">(...)</text>\r\n",
       "</g>\r\n",
       "<!-- 215&#45;&gt;216 -->\r\n",
       "<g id=\"edge10\" class=\"edge\"><title>215&#45;&gt;216</title>\r\n",
       "<path fill=\"none\" stroke=\"black\" d=\"M398.941,-71.9961C396.859,-63.4699 394.641,-54.3885 392.641,-46.1962\"/>\r\n",
       "<polygon fill=\"black\" stroke=\"black\" points=\"396.022,-45.2877 390.25,-36.4034 389.222,-46.9482 396.022,-45.2877\"/>\r\n",
       "</g>\r\n",
       "<!-- 451 -->\r\n",
       "<g id=\"node12\" class=\"node\"><title>451</title>\r\n",
       "<polygon fill=\"none\" stroke=\"black\" points=\"485,-36 431,-36 431,-0 485,-0 485,-36\"/>\r\n",
       "<text text-anchor=\"middle\" x=\"458\" y=\"-14.3\" font-family=\"Times New Roman,serif\" font-size=\"14.00\">(...)</text>\r\n",
       "</g>\r\n",
       "<!-- 215&#45;&gt;451 -->\r\n",
       "<g id=\"edge11\" class=\"edge\"><title>215&#45;&gt;451</title>\r\n",
       "<path fill=\"none\" stroke=\"black\" d=\"M426.572,-71.9961C431.853,-63.0909 437.493,-53.5802 442.517,-45.1093\"/>\r\n",
       "<polygon fill=\"black\" stroke=\"black\" points=\"445.589,-46.79 447.679,-36.4034 439.568,-43.2194 445.589,-46.79\"/>\r\n",
       "</g>\r\n",
       "<!-- 527 -->\r\n",
       "<g id=\"node14\" class=\"node\"><title>527</title>\r\n",
       "<polygon fill=\"none\" stroke=\"black\" points=\"570,-36 516,-36 516,-0 570,-0 570,-36\"/>\r\n",
       "<text text-anchor=\"middle\" x=\"543\" y=\"-14.3\" font-family=\"Times New Roman,serif\" font-size=\"14.00\">(...)</text>\r\n",
       "</g>\r\n",
       "<!-- 526&#45;&gt;527 -->\r\n",
       "<g id=\"edge13\" class=\"edge\"><title>526&#45;&gt;527</title>\r\n",
       "<path fill=\"none\" stroke=\"black\" d=\"M551.627,-71.9961C550.255,-63.5646 548.794,-54.5902 547.472,-46.4696\"/>\r\n",
       "<polygon fill=\"black\" stroke=\"black\" points=\"550.894,-45.7111 545.833,-36.4034 543.985,-46.8359 550.894,-45.7111\"/>\r\n",
       "</g>\r\n",
       "<!-- 606 -->\r\n",
       "<g id=\"node15\" class=\"node\"><title>606</title>\r\n",
       "<polygon fill=\"none\" stroke=\"black\" points=\"642,-36 588,-36 588,-0 642,-0 642,-36\"/>\r\n",
       "<text text-anchor=\"middle\" x=\"615\" y=\"-14.3\" font-family=\"Times New Roman,serif\" font-size=\"14.00\">(...)</text>\r\n",
       "</g>\r\n",
       "<!-- 526&#45;&gt;606 -->\r\n",
       "<g id=\"edge14\" class=\"edge\"><title>526&#45;&gt;606</title>\r\n",
       "<path fill=\"none\" stroke=\"black\" d=\"M579.258,-71.9961C585.328,-62.9962 591.815,-53.3778 597.574,-44.8393\"/>\r\n",
       "<polygon fill=\"black\" stroke=\"black\" points=\"600.573,-46.6511 603.263,-36.4034 594.77,-42.7371 600.573,-46.6511\"/>\r\n",
       "</g>\r\n",
       "</g>\r\n",
       "</svg>\r\n"
      ],
      "text/plain": [
       "<graphviz.files.Source at 0x16dabab2c48>"
      ]
     },
     "execution_count": 29,
     "metadata": {},
     "output_type": "execute_result"
    }
   ],
   "source": [
    "from sklearn import tree\n",
    "from graphviz import Source\n",
    "import graphviz\n",
    "Source(tree.export_graphviz(clf, out_file=None, feature_names=feat_name, max_depth=2))\n"
   ]
  },
  {
   "cell_type": "markdown",
   "metadata": {
    "colab_type": "text",
    "id": "5przjMTbiWOz"
   },
   "source": [
    "## [5.2] Applying Decision Trees on TFIDF,<font color='red'> SET 2</font>"
   ]
  },
  {
   "cell_type": "code",
   "execution_count": 35,
   "metadata": {
    "colab": {},
    "colab_type": "code",
    "id": "Bm3mfI7miWOz"
   },
   "outputs": [],
   "source": [
    "\n",
    "tfidf_vect = TfidfVectorizer(ngram_range = (1,2), min_df=2)\n",
    "train_tfidf = tfidf_vect.fit_transform(x_train)\n",
    "test_tfidf = tfidf_vect.transform(x_test)\n"
   ]
  },
  {
   "cell_type": "code",
   "execution_count": 36,
   "metadata": {},
   "outputs": [
    {
     "name": "stderr",
     "output_type": "stream",
     "text": [
      "100%|███████████████████████████████████████████████████████████████████████████████████| 8/8 [48:58<00:00, 367.27s/it]\n"
     ]
    },
    {
     "data": {
      "image/png": "[encoded data removed]",
      "text/plain": [
       "<Figure size 576x432 with 2 Axes>"
      ]
     },
     "metadata": {
      "needs_background": "light"
     },
     "output_type": "display_data"
    },
    {
     "data": {
      "image/png": "[encoded data removed]",
      "text/plain": [
       "<Figure size 576x432 with 2 Axes>"
      ]
     },
     "metadata": {
      "needs_background": "light"
     },
     "output_type": "display_data"
    },
    {
     "name": "stdout",
     "output_type": "stream",
     "text": [
      "Maximum CV score is 0.7800169555803173\n",
      "Optimal value of max_depth is 17 and min_sample_split is 50 \n"
     ]
    }
   ],
   "source": [
    "optimal_depth, optimal_min_samples_split = DecisionTrees_train(train_tfidf, test_tfidf)"
   ]
  },
  {
   "cell_type": "code",
   "execution_count": 37,
   "metadata": {},
   "outputs": [
    {
     "data": {
      "image/png": "[encoded data removed]",
      "text/plain": [
       "<Figure size 432x288 with 1 Axes>"
      ]
     },
     "metadata": {},
     "output_type": "display_data"
    },
    {
     "name": "stdout",
     "output_type": "stream",
     "text": [
      " Test auc score is  0.7801280882166133\n"
     ]
    },
    {
     "data": {
      "image/png": "[encoded data removed]",
      "text/plain": [
       "<Figure size 432x432 with 2 Axes>"
      ]
     },
     "metadata": {},
     "output_type": "display_data"
    }
   ],
   "source": [
    "test(train_tfidf, test_tfidf, optimal_depth, optimal_min_samples_split)"
   ]
  },
  {
   "cell_type": "markdown",
   "metadata": {
    "colab_type": "text",
    "id": "PIKUCldjiWO0"
   },
   "source": [
    "### [5.2.1] Top 20 important features from<font color='red'> SET 2</font>"
   ]
  },
  {
   "cell_type": "code",
   "execution_count": 38,
   "metadata": {
    "colab": {},
    "colab_type": "code",
    "id": "p2P0iHQciWO1"
   },
   "outputs": [
    {
     "name": "stdout",
     "output_type": "stream",
     "text": [
      "top 20 features are:\n",
      "\n",
      "                 feature_names\t            feature_importance\n",
      "----------------------------------------------------------------------------------------------------\n",
      "                           not\t\t\t0.140117\n",
      "                         great\t\t\t0.070694\n",
      "                  disappointed\t\t\t0.054250\n",
      "                         worst\t\t\t0.046444\n",
      "                         awful\t\t\t0.034535\n",
      "                        return\t\t\t0.033609\n",
      "                       not buy\t\t\t0.032000\n",
      "                         waste\t\t\t0.025808\n",
      "                          good\t\t\t0.025131\n",
      "                     delicious\t\t\t0.024904\n",
      "                          best\t\t\t0.023279\n",
      "                      horrible\t\t\t0.022292\n",
      "              not disappointed\t\t\t0.021627\n",
      "                          love\t\t\t0.021164\n",
      "                 disappointing\t\t\t0.020140\n",
      "                      terrible\t\t\t0.019137\n",
      "                           bad\t\t\t0.017484\n",
      "                     not worth\t\t\t0.017126\n",
      "                   waste money\t\t\t0.016341\n",
      "                         threw\t\t\t0.014720\n"
     ]
    }
   ],
   "source": [
    "feat_name = tfidf_vect.get_feature_names()\n",
    "\n",
    "clf = DecisionTreeClassifier(max_depth = optimal_depth, min_samples_split = optimal_min_samples_split)\n",
    "clf.fit(train_tfidf, y_train)\n",
    "feat_importance = clf.feature_importances_\n",
    "feat_dict = dict(zip(feat_importance, feat_name))\n",
    "feat_importance = sorted(feat_importance, reverse = True)\n",
    "print(\"top 20 features are:\")\n",
    "print()\n",
    "print(\"%30s\\t%30s\"%(\"feature_names\",\"feature_importance\"))\n",
    "print(\"-\"*100)\n",
    "for imp in feat_importance[0:20]:\n",
    "    print(\"%30s\\t\\t\\t%f\"%(feat_dict[imp],imp))"
   ]
  },
  {
   "cell_type": "markdown",
   "metadata": {
    "colab_type": "text",
    "id": "RTZB9ipUiWO3"
   },
   "source": [
    "### [5.2.2] Graphviz visualization of Decision Tree on TFIDF,<font color='red'> SET 2</font>"
   ]
  },
  {
   "cell_type": "code",
   "execution_count": 39,
   "metadata": {
    "colab": {},
    "colab_type": "code",
    "id": "DMbZoPoTiWO4"
   },
   "outputs": [
    {
     "data": {
      "image/svg+xml": [
       "<?xml version=\"1.0\" encoding=\"UTF-8\" standalone=\"no\"?>\r\n",
       "<!DOCTYPE svg PUBLIC \"-//W3C//DTD SVG 1.1//EN\"\r\n",
       " \"http://www.w3.org/Graphics/SVG/1.1/DTD/svg11.dtd\">\r\n",
       "<!-- Generated by graphviz version 2.38.0 (20140413.2041)\r\n",
       " -->\r\n",
       "<!-- Title: Tree Pages: 1 -->\r\n",
       "<svg width=\"646pt\" height=\"356pt\"\r\n",
       " viewBox=\"0.00 0.00 646.00 356.00\" xmlns=\"http://www.w3.org/2000/svg\" xmlns:xlink=\"http://www.w3.org/1999/xlink\">\r\n",
       "<g id=\"graph0\" class=\"graph\" transform=\"scale(1 1) rotate(0) translate(4 352)\">\r\n",
       "<title>Tree</title>\r\n",
       "<polygon fill=\"white\" stroke=\"none\" points=\"-4,4 -4,-352 642,-352 642,4 -4,4\"/>\r\n",
       "<!-- 0 -->\r\n",
       "<g id=\"node1\" class=\"node\"><title>0</title>\r\n",
       "<polygon fill=\"none\" stroke=\"black\" points=\"391,-348 253,-348 253,-280 391,-280 391,-348\"/>\r\n",
       "<text text-anchor=\"middle\" x=\"322\" y=\"-332.8\" font-family=\"Times New Roman,serif\" font-size=\"14.00\">not &lt;= 0.05</text>\r\n",
       "<text text-anchor=\"middle\" x=\"322\" y=\"-317.8\" font-family=\"Times New Roman,serif\" font-size=\"14.00\">gini = 0.271</text>\r\n",
       "<text text-anchor=\"middle\" x=\"322\" y=\"-302.8\" font-family=\"Times New Roman,serif\" font-size=\"14.00\">samples = 61441</text>\r\n",
       "<text text-anchor=\"middle\" x=\"322\" y=\"-287.8\" font-family=\"Times New Roman,serif\" font-size=\"14.00\">value = [9940, 51501]</text>\r\n",
       "</g>\r\n",
       "<!-- 1 -->\r\n",
       "<g id=\"node2\" class=\"node\"><title>1</title>\r\n",
       "<polygon fill=\"none\" stroke=\"black\" points=\"308,-244 170,-244 170,-176 308,-176 308,-244\"/>\r\n",
       "<text text-anchor=\"middle\" x=\"239\" y=\"-228.8\" font-family=\"Times New Roman,serif\" font-size=\"14.00\">disappointed &lt;= 0.04</text>\r\n",
       "<text text-anchor=\"middle\" x=\"239\" y=\"-213.8\" font-family=\"Times New Roman,serif\" font-size=\"14.00\">gini = 0.221</text>\r\n",
       "<text text-anchor=\"middle\" x=\"239\" y=\"-198.8\" font-family=\"Times New Roman,serif\" font-size=\"14.00\">samples = 49232</text>\r\n",
       "<text text-anchor=\"middle\" x=\"239\" y=\"-183.8\" font-family=\"Times New Roman,serif\" font-size=\"14.00\">value = [6235, 42997]</text>\r\n",
       "</g>\r\n",
       "<!-- 0&#45;&gt;1 -->\r\n",
       "<g id=\"edge1\" class=\"edge\"><title>0&#45;&gt;1</title>\r\n",
       "<path fill=\"none\" stroke=\"black\" d=\"M295.052,-279.884C287.877,-271.065 280.036,-261.43 272.554,-252.235\"/>\r\n",
       "<polygon fill=\"black\" stroke=\"black\" points=\"275.123,-249.847 266.097,-244.299 269.693,-254.265 275.123,-249.847\"/>\r\n",
       "<text text-anchor=\"middle\" x=\"263.542\" y=\"-265.469\" font-family=\"Times New Roman,serif\" font-size=\"14.00\">True</text>\r\n",
       "</g>\r\n",
       "<!-- 408 -->\r\n",
       "<g id=\"node9\" class=\"node\"><title>408</title>\r\n",
       "<polygon fill=\"none\" stroke=\"black\" points=\"470.5,-244 339.5,-244 339.5,-176 470.5,-176 470.5,-244\"/>\r\n",
       "<text text-anchor=\"middle\" x=\"405\" y=\"-228.8\" font-family=\"Times New Roman,serif\" font-size=\"14.00\">great &lt;= 0.011</text>\r\n",
       "<text text-anchor=\"middle\" x=\"405\" y=\"-213.8\" font-family=\"Times New Roman,serif\" font-size=\"14.00\">gini = 0.423</text>\r\n",
       "<text text-anchor=\"middle\" x=\"405\" y=\"-198.8\" font-family=\"Times New Roman,serif\" font-size=\"14.00\">samples = 12209</text>\r\n",
       "<text text-anchor=\"middle\" x=\"405\" y=\"-183.8\" font-family=\"Times New Roman,serif\" font-size=\"14.00\">value = [3705, 8504]</text>\r\n",
       "</g>\r\n",
       "<!-- 0&#45;&gt;408 -->\r\n",
       "<g id=\"edge8\" class=\"edge\"><title>0&#45;&gt;408</title>\r\n",
       "<path fill=\"none\" stroke=\"black\" d=\"M348.948,-279.884C356.123,-271.065 363.964,-261.43 371.446,-252.235\"/>\r\n",
       "<polygon fill=\"black\" stroke=\"black\" points=\"374.307,-254.265 377.903,-244.299 368.877,-249.847 374.307,-254.265\"/>\r\n",
       "<text text-anchor=\"middle\" x=\"380.458\" y=\"-265.469\" font-family=\"Times New Roman,serif\" font-size=\"14.00\">False</text>\r\n",
       "</g>\r\n",
       "<!-- 2 -->\r\n",
       "<g id=\"node3\" class=\"node\"><title>2</title>\r\n",
       "<polygon fill=\"none\" stroke=\"black\" points=\"138,-140 0,-140 0,-72 138,-72 138,-140\"/>\r\n",
       "<text text-anchor=\"middle\" x=\"69\" y=\"-124.8\" font-family=\"Times New Roman,serif\" font-size=\"14.00\">worst &lt;= 0.052</text>\r\n",
       "<text text-anchor=\"middle\" x=\"69\" y=\"-109.8\" font-family=\"Times New Roman,serif\" font-size=\"14.00\">gini = 0.21</text>\r\n",
       "<text text-anchor=\"middle\" x=\"69\" y=\"-94.8\" font-family=\"Times New Roman,serif\" font-size=\"14.00\">samples = 48264</text>\r\n",
       "<text text-anchor=\"middle\" x=\"69\" y=\"-79.8\" font-family=\"Times New Roman,serif\" font-size=\"14.00\">value = [5753, 42511]</text>\r\n",
       "</g>\r\n",
       "<!-- 1&#45;&gt;2 -->\r\n",
       "<g id=\"edge2\" class=\"edge\"><title>1&#45;&gt;2</title>\r\n",
       "<path fill=\"none\" stroke=\"black\" d=\"M183.806,-175.884C167.542,-166.125 149.61,-155.366 132.85,-145.31\"/>\r\n",
       "<polygon fill=\"black\" stroke=\"black\" points=\"134.584,-142.269 124.208,-140.125 130.982,-148.271 134.584,-142.269\"/>\r\n",
       "</g>\r\n",
       "<!-- 353 -->\r\n",
       "<g id=\"node6\" class=\"node\"><title>353</title>\r\n",
       "<polygon fill=\"none\" stroke=\"black\" points=\"321.5,-140 156.5,-140 156.5,-72 321.5,-72 321.5,-140\"/>\r\n",
       "<text text-anchor=\"middle\" x=\"239\" y=\"-124.8\" font-family=\"Times New Roman,serif\" font-size=\"14.00\">not disappointed &lt;= 0.052</text>\r\n",
       "<text text-anchor=\"middle\" x=\"239\" y=\"-109.8\" font-family=\"Times New Roman,serif\" font-size=\"14.00\">gini = 0.5</text>\r\n",
       "<text text-anchor=\"middle\" x=\"239\" y=\"-94.8\" font-family=\"Times New Roman,serif\" font-size=\"14.00\">samples = 968</text>\r\n",
       "<text text-anchor=\"middle\" x=\"239\" y=\"-79.8\" font-family=\"Times New Roman,serif\" font-size=\"14.00\">value = [482, 486]</text>\r\n",
       "</g>\r\n",
       "<!-- 1&#45;&gt;353 -->\r\n",
       "<g id=\"edge5\" class=\"edge\"><title>1&#45;&gt;353</title>\r\n",
       "<path fill=\"none\" stroke=\"black\" d=\"M239,-175.884C239,-167.778 239,-158.982 239,-150.472\"/>\r\n",
       "<polygon fill=\"black\" stroke=\"black\" points=\"242.5,-150.299 239,-140.299 235.5,-150.299 242.5,-150.299\"/>\r\n",
       "</g>\r\n",
       "<!-- 3 -->\r\n",
       "<g id=\"node4\" class=\"node\"><title>3</title>\r\n",
       "<polygon fill=\"none\" stroke=\"black\" points=\"85,-36 31,-36 31,-0 85,-0 85,-36\"/>\r\n",
       "<text text-anchor=\"middle\" x=\"58\" y=\"-14.3\" font-family=\"Times New Roman,serif\" font-size=\"14.00\">(...)</text>\r\n",
       "</g>\r\n",
       "<!-- 2&#45;&gt;3 -->\r\n",
       "<g id=\"edge3\" class=\"edge\"><title>2&#45;&gt;3</title>\r\n",
       "<path fill=\"none\" stroke=\"black\" d=\"M64.7786,-71.9961C63.7001,-63.5646 62.5522,-54.5902 61.5136,-46.4696\"/>\r\n",
       "<polygon fill=\"black\" stroke=\"black\" points=\"64.9666,-45.8785 60.226,-36.4034 58.0231,-46.7667 64.9666,-45.8785\"/>\r\n",
       "</g>\r\n",
       "<!-- 324 -->\r\n",
       "<g id=\"node5\" class=\"node\"><title>324</title>\r\n",
       "<polygon fill=\"none\" stroke=\"black\" points=\"157,-36 103,-36 103,-0 157,-0 157,-36\"/>\r\n",
       "<text text-anchor=\"middle\" x=\"130\" y=\"-14.3\" font-family=\"Times New Roman,serif\" font-size=\"14.00\">(...)</text>\r\n",
       "</g>\r\n",
       "<!-- 2&#45;&gt;324 -->\r\n",
       "<g id=\"edge4\" class=\"edge\"><title>2&#45;&gt;324</title>\r\n",
       "<path fill=\"none\" stroke=\"black\" d=\"M92.4097,-71.9961C98.8606,-62.9014 105.759,-53.1752 111.863,-44.57\"/>\r\n",
       "<polygon fill=\"black\" stroke=\"black\" points=\"114.725,-46.5848 117.656,-36.4034 109.015,-42.535 114.725,-46.5848\"/>\r\n",
       "</g>\r\n",
       "<!-- 354 -->\r\n",
       "<g id=\"node7\" class=\"node\"><title>354</title>\r\n",
       "<polygon fill=\"none\" stroke=\"black\" points=\"247,-36 193,-36 193,-0 247,-0 247,-36\"/>\r\n",
       "<text text-anchor=\"middle\" x=\"220\" y=\"-14.3\" font-family=\"Times New Roman,serif\" font-size=\"14.00\">(...)</text>\r\n",
       "</g>\r\n",
       "<!-- 353&#45;&gt;354 -->\r\n",
       "<g id=\"edge6\" class=\"edge\"><title>353&#45;&gt;354</title>\r\n",
       "<path fill=\"none\" stroke=\"black\" d=\"M231.708,-71.9961C229.825,-63.4699 227.818,-54.3885 226.008,-46.1962\"/>\r\n",
       "<polygon fill=\"black\" stroke=\"black\" points=\"229.42,-45.4128 223.845,-36.4034 222.585,-46.923 229.42,-45.4128\"/>\r\n",
       "</g>\r\n",
       "<!-- 403 -->\r\n",
       "<g id=\"node8\" class=\"node\"><title>403</title>\r\n",
       "<polygon fill=\"none\" stroke=\"black\" points=\"319,-36 265,-36 265,-0 319,-0 319,-36\"/>\r\n",
       "<text text-anchor=\"middle\" x=\"292\" y=\"-14.3\" font-family=\"Times New Roman,serif\" font-size=\"14.00\">(...)</text>\r\n",
       "</g>\r\n",
       "<!-- 353&#45;&gt;403 -->\r\n",
       "<g id=\"edge7\" class=\"edge\"><title>353&#45;&gt;403</title>\r\n",
       "<path fill=\"none\" stroke=\"black\" d=\"M259.34,-71.9961C264.828,-63.0909 270.689,-53.5802 275.909,-45.1093\"/>\r\n",
       "<polygon fill=\"black\" stroke=\"black\" points=\"279.008,-46.7529 281.275,-36.4034 273.048,-43.0803 279.008,-46.7529\"/>\r\n",
       "</g>\r\n",
       "<!-- 409 -->\r\n",
       "<g id=\"node10\" class=\"node\"><title>409</title>\r\n",
       "<polygon fill=\"none\" stroke=\"black\" points=\"470.5,-140 339.5,-140 339.5,-72 470.5,-72 470.5,-140\"/>\r\n",
       "<text text-anchor=\"middle\" x=\"405\" y=\"-124.8\" font-family=\"Times New Roman,serif\" font-size=\"14.00\">not buy &lt;= 0.037</text>\r\n",
       "<text text-anchor=\"middle\" x=\"405\" y=\"-109.8\" font-family=\"Times New Roman,serif\" font-size=\"14.00\">gini = 0.455</text>\r\n",
       "<text text-anchor=\"middle\" x=\"405\" y=\"-94.8\" font-family=\"Times New Roman,serif\" font-size=\"14.00\">samples = 9635</text>\r\n",
       "<text text-anchor=\"middle\" x=\"405\" y=\"-79.8\" font-family=\"Times New Roman,serif\" font-size=\"14.00\">value = [3374, 6261]</text>\r\n",
       "</g>\r\n",
       "<!-- 408&#45;&gt;409 -->\r\n",
       "<g id=\"edge9\" class=\"edge\"><title>408&#45;&gt;409</title>\r\n",
       "<path fill=\"none\" stroke=\"black\" d=\"M405,-175.884C405,-167.778 405,-158.982 405,-150.472\"/>\r\n",
       "<polygon fill=\"black\" stroke=\"black\" points=\"408.5,-150.299 405,-140.299 401.5,-150.299 408.5,-150.299\"/>\r\n",
       "</g>\r\n",
       "<!-- 648 -->\r\n",
       "<g id=\"node13\" class=\"node\"><title>648</title>\r\n",
       "<polygon fill=\"none\" stroke=\"black\" points=\"613.5,-140 488.5,-140 488.5,-72 613.5,-72 613.5,-140\"/>\r\n",
       "<text text-anchor=\"middle\" x=\"551\" y=\"-124.8\" font-family=\"Times New Roman,serif\" font-size=\"14.00\">not great &lt;= 0.111</text>\r\n",
       "<text text-anchor=\"middle\" x=\"551\" y=\"-109.8\" font-family=\"Times New Roman,serif\" font-size=\"14.00\">gini = 0.224</text>\r\n",
       "<text text-anchor=\"middle\" x=\"551\" y=\"-94.8\" font-family=\"Times New Roman,serif\" font-size=\"14.00\">samples = 2574</text>\r\n",
       "<text text-anchor=\"middle\" x=\"551\" y=\"-79.8\" font-family=\"Times New Roman,serif\" font-size=\"14.00\">value = [331, 2243]</text>\r\n",
       "</g>\r\n",
       "<!-- 408&#45;&gt;648 -->\r\n",
       "<g id=\"edge12\" class=\"edge\"><title>408&#45;&gt;648</title>\r\n",
       "<path fill=\"none\" stroke=\"black\" d=\"M452.402,-175.884C465.917,-166.442 480.772,-156.064 494.759,-146.292\"/>\r\n",
       "<polygon fill=\"black\" stroke=\"black\" points=\"497.143,-148.896 503.336,-140.299 493.134,-143.157 497.143,-148.896\"/>\r\n",
       "</g>\r\n",
       "<!-- 410 -->\r\n",
       "<g id=\"node11\" class=\"node\"><title>410</title>\r\n",
       "<polygon fill=\"none\" stroke=\"black\" points=\"411,-36 357,-36 357,-0 411,-0 411,-36\"/>\r\n",
       "<text text-anchor=\"middle\" x=\"384\" y=\"-14.3\" font-family=\"Times New Roman,serif\" font-size=\"14.00\">(...)</text>\r\n",
       "</g>\r\n",
       "<!-- 409&#45;&gt;410 -->\r\n",
       "<g id=\"edge10\" class=\"edge\"><title>409&#45;&gt;410</title>\r\n",
       "<path fill=\"none\" stroke=\"black\" d=\"M396.941,-71.9961C394.859,-63.4699 392.641,-54.3885 390.641,-46.1962\"/>\r\n",
       "<polygon fill=\"black\" stroke=\"black\" points=\"394.022,-45.2877 388.25,-36.4034 387.222,-46.9482 394.022,-45.2877\"/>\r\n",
       "</g>\r\n",
       "<!-- 615 -->\r\n",
       "<g id=\"node12\" class=\"node\"><title>615</title>\r\n",
       "<polygon fill=\"none\" stroke=\"black\" points=\"483,-36 429,-36 429,-0 483,-0 483,-36\"/>\r\n",
       "<text text-anchor=\"middle\" x=\"456\" y=\"-14.3\" font-family=\"Times New Roman,serif\" font-size=\"14.00\">(...)</text>\r\n",
       "</g>\r\n",
       "<!-- 409&#45;&gt;615 -->\r\n",
       "<g id=\"edge11\" class=\"edge\"><title>409&#45;&gt;615</title>\r\n",
       "<path fill=\"none\" stroke=\"black\" d=\"M424.572,-71.9961C429.853,-63.0909 435.493,-53.5802 440.517,-45.1093\"/>\r\n",
       "<polygon fill=\"black\" stroke=\"black\" points=\"443.589,-46.79 445.679,-36.4034 437.568,-43.2194 443.589,-46.79\"/>\r\n",
       "</g>\r\n",
       "<!-- 649 -->\r\n",
       "<g id=\"node14\" class=\"node\"><title>649</title>\r\n",
       "<polygon fill=\"none\" stroke=\"black\" points=\"566,-36 512,-36 512,-0 566,-0 566,-36\"/>\r\n",
       "<text text-anchor=\"middle\" x=\"539\" y=\"-14.3\" font-family=\"Times New Roman,serif\" font-size=\"14.00\">(...)</text>\r\n",
       "</g>\r\n",
       "<!-- 648&#45;&gt;649 -->\r\n",
       "<g id=\"edge13\" class=\"edge\"><title>648&#45;&gt;649</title>\r\n",
       "<path fill=\"none\" stroke=\"black\" d=\"M546.395,-71.9961C545.218,-63.5646 543.966,-54.5902 542.833,-46.4696\"/>\r\n",
       "<polygon fill=\"black\" stroke=\"black\" points=\"546.277,-45.8237 541.428,-36.4034 539.344,-46.7911 546.277,-45.8237\"/>\r\n",
       "</g>\r\n",
       "<!-- 690 -->\r\n",
       "<g id=\"node15\" class=\"node\"><title>690</title>\r\n",
       "<polygon fill=\"none\" stroke=\"black\" points=\"638,-36 584,-36 584,-0 638,-0 638,-36\"/>\r\n",
       "<text text-anchor=\"middle\" x=\"611\" y=\"-14.3\" font-family=\"Times New Roman,serif\" font-size=\"14.00\">(...)</text>\r\n",
       "</g>\r\n",
       "<!-- 648&#45;&gt;690 -->\r\n",
       "<g id=\"edge14\" class=\"edge\"><title>648&#45;&gt;690</title>\r\n",
       "<path fill=\"none\" stroke=\"black\" d=\"M574.026,-71.9961C580.305,-62.9962 587.016,-53.3778 592.973,-44.8393\"/>\r\n",
       "<polygon fill=\"black\" stroke=\"black\" points=\"596.007,-46.6073 598.858,-36.4034 590.266,-42.602 596.007,-46.6073\"/>\r\n",
       "</g>\r\n",
       "</g>\r\n",
       "</svg>\r\n"
      ],
      "text/plain": [
       "<graphviz.files.Source at 0x16daeac88c8>"
      ]
     },
     "execution_count": 39,
     "metadata": {},
     "output_type": "execute_result"
    }
   ],
   "source": [
    "Source(tree.export_graphviz(clf, out_file=None, feature_names=feat_name, max_depth=2))"
   ]
  },
  {
   "cell_type": "markdown",
   "metadata": {
    "colab_type": "text",
    "id": "NVhl_V6MiWO5"
   },
   "source": [
    "## [5.3] Applying Decision Trees on AVG W2V,<font color='red'> SET 3</font>"
   ]
  },
  {
   "cell_type": "code",
   "execution_count": 41,
   "metadata": {
    "colab": {},
    "colab_type": "code",
    "id": "uYDXnzMmiWO5"
   },
   "outputs": [],
   "source": [
    "list_of_sentance=[]\n",
    "for sentance in x_train:\n",
    "    list_of_sentance.append(sentance.split())\n",
    "        \n",
    "w2v=Word2Vec(list_of_sentance,min_count=5,size=50, workers=4)\n",
    "w2vwords = list(w2v.wv.vocab)"
   ]
  },
  {
   "cell_type": "code",
   "execution_count": 42,
   "metadata": {},
   "outputs": [
    {
     "data": {
      "text/plain": [
       "[('good', 0.8110492825508118),\n",
       " ('awesome', 0.8101460933685303),\n",
       " ('fantastic', 0.8042752742767334),\n",
       " ('excellent', 0.7932310104370117),\n",
       " ('terrific', 0.76551353931427),\n",
       " ('wonderful', 0.7400988936424255),\n",
       " ('perfect', 0.7318025827407837),\n",
       " ('fabulous', 0.6957256197929382),\n",
       " ('amazing', 0.6904552578926086),\n",
       " ('decent', 0.6716135144233704)]"
      ]
     },
     "execution_count": 42,
     "metadata": {},
     "output_type": "execute_result"
    }
   ],
   "source": [
    "w2v.most_similar('great')"
   ]
  },
  {
   "cell_type": "code",
   "execution_count": 46,
   "metadata": {},
   "outputs": [],
   "source": [
    "def avgw2v(sentances):\n",
    "    list_of_sentance=[]\n",
    "    for sentance in sentances:\n",
    "        list_of_sentance.append(sentance.split())\n",
    "    \n",
    "    sent_vectors = []; # the avg-w2v for each sentence/review is stored in this list\n",
    "    \n",
    "    for sent in tqdm(list_of_sentance, position = 0): # for each review/sentence\n",
    "        sent_vec = np.zeros(50) # as word vectors are of zero length 50, you might need to change this to 300 if you use google's w2v\n",
    "        cnt_words =0; # num of words with a valid vector in the sentence/review\n",
    "        for word in sent: # for each word in a review/sentence\n",
    "            if word in w2vwords:\n",
    "                vec = w2v.wv[word]\n",
    "                sent_vec += vec\n",
    "                cnt_words += 1\n",
    "        if cnt_words != 0:\n",
    "            sent_vec /= cnt_words\n",
    "        sent_vectors.append(sent_vec)\n",
    "    return sent_vectors\n",
    "    "
   ]
  },
  {
   "cell_type": "code",
   "execution_count": 48,
   "metadata": {},
   "outputs": [
    {
     "name": "stderr",
     "output_type": "stream",
     "text": [
      "100%|███████████████████████████████████████████████████████████████████████████| 61441/61441 [03:41<00:00, 277.19it/s]\n",
      "100%|███████████████████████████████████████████████████████████████████████████| 26332/26332 [01:04<00:00, 406.88it/s]\n"
     ]
    }
   ],
   "source": [
    "train_w2v = avgw2v(x_train)\n",
    "test_w2v = avgw2v(x_test)"
   ]
  },
  {
   "cell_type": "code",
   "execution_count": 54,
   "metadata": {},
   "outputs": [],
   "source": [
    "from sklearn import preprocessing\n",
    "\n",
    "std = preprocessing.StandardScaler()\n",
    "train_w2v = std.fit_transform(train_w2v)\n",
    "test_w2v = std.transform(test_w2v)\n"
   ]
  },
  {
   "cell_type": "code",
   "execution_count": 55,
   "metadata": {},
   "outputs": [
    {
     "name": "stderr",
     "output_type": "stream",
     "text": [
      "100%|████████████████████████████████████████████████████████████████████████████████████| 8/8 [12:44<00:00, 95.53s/it]\n"
     ]
    },
    {
     "data": {
      "image/png": "[encoded data removed]",
      "text/plain": [
       "<Figure size 576x432 with 2 Axes>"
      ]
     },
     "metadata": {},
     "output_type": "display_data"
    },
    {
     "data": {
      "image/png": "[encoded data removed]",
      "text/plain": [
       "<Figure size 576x432 with 2 Axes>"
      ]
     },
     "metadata": {},
     "output_type": "display_data"
    },
    {
     "name": "stdout",
     "output_type": "stream",
     "text": [
      "Maximum CV score is 0.8398075804554876\n",
      "Optimal value of max_depth is 8 and min_sample_split is 50 \n"
     ]
    }
   ],
   "source": [
    "optimal_depth, optimal_min_samples_split = DecisionTrees_train(train_w2v,test_w2v)"
   ]
  },
  {
   "cell_type": "code",
   "execution_count": 56,
   "metadata": {},
   "outputs": [
    {
     "data": {
      "image/png": "[encoded data removed]",
      "text/plain": [
       "<Figure size 432x288 with 1 Axes>"
      ]
     },
     "metadata": {},
     "output_type": "display_data"
    },
    {
     "name": "stdout",
     "output_type": "stream",
     "text": [
      " Test auc score is  0.8394674389810145\n"
     ]
    },
    {
     "data": {
      "image/png": "[encoded data removed]",
      "text/plain": [
       "<Figure size 432x432 with 2 Axes>"
      ]
     },
     "metadata": {},
     "output_type": "display_data"
    }
   ],
   "source": [
    "test(train_w2v, test_w2v, optimal_depth, optimal_min_samples_split)"
   ]
  },
  {
   "cell_type": "markdown",
   "metadata": {
    "colab_type": "text",
    "id": "Em-rF6u2iWO8"
   },
   "source": [
    "# [6] Conclusions"
   ]
  },
  {
   "cell_type": "code",
   "execution_count": 57,
   "metadata": {
    "colab": {},
    "colab_type": "code",
    "id": "3Hnu2QziiWO9"
   },
   "outputs": [
    {
     "name": "stdout",
     "output_type": "stream",
     "text": [
      "+------------------+--------------------------+-------------------+---------------------------+--------------------+\n",
      "|    Vectorizer    |          Model           | optimal Max Depth | optimal min_samples_split |   Test AUC Score   |\n",
      "+------------------+--------------------------+-------------------+---------------------------+--------------------+\n",
      "|   Bag of Words   | Decision Tree Classifier |         17        |             50            | 0.7979041084517883 |\n",
      "|      TF-IDF      | Decision Tree Classifier |         17        |             50            | 0.7801280882166133 |\n",
      "| Average Word2Vec | Decision Tree Classifier |         8         |             50            | 0.8394674389810145 |\n",
      "+------------------+--------------------------+-------------------+---------------------------+--------------------+\n"
     ]
    }
   ],
   "source": [
    "from prettytable import PrettyTable\n",
    "table = PrettyTable()\n",
    "table.field_names = [\"Vectorizer\", \"Model\", \"optimal Max Depth\", \"optimal min_samples_split\", \"Test AUC Score\"]\n",
    "table.add_row([\"Bag of Words\", \"Decision Tree Classifier\", 17 , 50, 0.7979041084517883])\n",
    "table.add_row([\"TF-IDF\", \"Decision Tree Classifier\", 17 , 50, 0.7801280882166133])\n",
    "table.add_row([\"Average Word2Vec\", \"Decision Tree Classifier\",8, 50,0.8394674389810145])\n",
    "print(table)"
   ]
  },
  {
   "cell_type": "code",
   "execution_count": null,
   "metadata": {},
   "outputs": [],
   "source": []
  }
 ],
 "metadata": {
  "colab": {
   "collapsed_sections": [
    "NTwQITJKiWN5",
    "T_LFck8iiWOX",
    "mjfrB76yiWOa",
    "0tcbbZxSiWOd",
    "u566lt93iWOf",
    "mUNnof40iWOl",
    "heHLB_FCiWOm",
    "ylTn3LgiiWOo",
    "NVhl_V6MiWO5",
    "PnwVzXytiWO7"
   ],
   "name": "08 Amazon Fine Food Reviews Analysis_Decision Trees.ipynb",
   "provenance": [],
   "version": "0.3.2"
  },
  "kernelspec": {
   "display_name": "Python 3",
   "language": "python",
   "name": "python3"
  },
  "language_info": {
   "codemirror_mode": {
    "name": "ipython",
    "version": 3
   },
   "file_extension": ".py",
   "mimetype": "text/x-python",
   "name": "python",
   "nbconvert_exporter": "python",
   "pygments_lexer": "ipython3",
   "version": "3.7.4"
  }
 },
 "nbformat": 4,
 "nbformat_minor": 1
}
